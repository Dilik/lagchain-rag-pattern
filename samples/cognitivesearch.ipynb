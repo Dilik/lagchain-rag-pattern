{
 "cells": [
  {
   "cell_type": "markdown",
   "metadata": {},
   "source": [
    "### Azure Cognitive Search Setup with Langchain"
   ]
  },
  {
   "cell_type": "code",
   "execution_count": 18,
   "metadata": {},
   "outputs": [],
   "source": [
    "import openai\n",
    "import os\n",
    "from langchain.embeddings.openai import OpenAIEmbeddings\n",
    "from langchain.vectorstores.azuresearch import AzureSearch\n",
    "from langchain.document_loaders import PyPDFLoader\n",
    "from langchain.text_splitter import CharacterTextSplitter\n",
    "\n",
    "# read local .env file\n",
    "from dotenv import load_dotenv, find_dotenv\n",
    "_ = load_dotenv(find_dotenv()) \n",
    "\n",
    "# setup azure openai api\n",
    "openai.api_type = \"azure\"\n",
    "openai.api_base = os.getenv(\"AZURE_OAI_ENDPOINT\")\n",
    "# openai.api_version = \"2023-03-15-preview\"\n",
    "openai.api_version = \"2023-05-15\"\n",
    "openai.api_key  = os.getenv('AZURE_OAI_KEY')\n",
    "\n",
    "llm_name = \"gpt-3.5-turbo\"\n",
    "deployment_name_gpt = os.getenv(\"AZURE_OAI_MODEL_GPT_3\")\n",
    "deployment_name_ada = os.getenv(\"AZURE_OAI_MODEL_ADA\")\n",
    "\n",
    "vector_store_address: str = os.getenv(\"AZURE_SEARCH_ENDPOINT\")\n",
    "vector_store_password: str = os.getenv(\"AZURE_SEARCH_ADMIN_KEY\")\n",
    "\n",
    "os.environ[\"OPENAI_API_TYPE\"] = openai.api_type\n",
    "os.environ[\"OPENAI_API_BASE\"] = openai.api_base\n",
    "os.environ[\"OPENAI_API_KEY\"] = openai.api_key\n",
    "os.environ[\"OPENAI_API_VERSION\"] = openai.api_version"
   ]
  },
  {
   "cell_type": "markdown",
   "metadata": {},
   "source": [
    "### Create Vector Index in Azure Cognitive Search"
   ]
  },
  {
   "cell_type": "code",
   "execution_count": 19,
   "metadata": {},
   "outputs": [],
   "source": [
    "embeddings: OpenAIEmbeddings = OpenAIEmbeddings(deployment=deployment_name_ada, chunk_size=1)\n",
    "index_name: str = \"facts-about-snakes\"\n",
    "vector_store: AzureSearch = AzureSearch(\n",
    "    azure_search_endpoint=vector_store_address,\n",
    "    azure_search_key=vector_store_password,\n",
    "    index_name=index_name,\n",
    "    embedding_function=embeddings.embed_query,\n",
    ")"
   ]
  },
  {
   "cell_type": "markdown",
   "metadata": {},
   "source": [
    "### Load data and split it into chunks"
   ]
  },
  {
   "cell_type": "code",
   "execution_count": 20,
   "metadata": {},
   "outputs": [],
   "source": [
    "loader = PyPDFLoader(\"../data/snakes.pdf\")\n",
    "documents = loader.load()"
   ]
  },
  {
   "cell_type": "code",
   "execution_count": 21,
   "metadata": {},
   "outputs": [
    {
     "data": {
      "text/plain": [
       "2"
      ]
     },
     "execution_count": 21,
     "metadata": {},
     "output_type": "execute_result"
    }
   ],
   "source": [
    "len(documents)"
   ]
  },
  {
   "cell_type": "code",
   "execution_count": 25,
   "metadata": {},
   "outputs": [],
   "source": [
    "chunk_size = 300\n",
    "chunk_overlap = 4\n",
    "separator = '\\n'\n",
    "text_splitter = CharacterTextSplitter(chunk_size=chunk_size, chunk_overlap=chunk_overlap, separator=separator)"
   ]
  },
  {
   "cell_type": "code",
   "execution_count": 26,
   "metadata": {},
   "outputs": [
    {
     "name": "stderr",
     "output_type": "stream",
     "text": [
      "Created a chunk of size 434, which is longer than the specified 300\n"
     ]
    },
    {
     "data": {
      "text/plain": [
       "20"
      ]
     },
     "execution_count": 26,
     "metadata": {},
     "output_type": "execute_result"
    }
   ],
   "source": [
    "docs = text_splitter.split_documents(documents)\n",
    "len(docs)"
   ]
  },
  {
   "cell_type": "markdown",
   "metadata": {},
   "source": [
    "### Upload the docs in vector form into azure cogntivesearch vector database"
   ]
  },
  {
   "cell_type": "code",
   "execution_count": 27,
   "metadata": {},
   "outputs": [
    {
     "data": {
      "text/plain": [
       "['MTNhODQyYzctNzc5ZC00NzE4LWEwNDAtMjdjOTgxZTQ0NTFm',\n",
       " 'ODZlMTQ0ZDQtNjFjNy00YTNiLWE0YzEtYzJlMTRkMGE2NjRj',\n",
       " 'ZmYyYzdmMTQtMDMzOC00YjdmLThlOWItYjgzODUyMmQwNGFl',\n",
       " 'ZDI4ZjQ1MjItZGM5Yi00ODE2LTkwNmUtNDU3NWM2NWI0MDNk',\n",
       " 'YzMzZmE2ZDUtNTE3Zi00MDNjLTllNDAtODc1MmVhMWQ0ZDgw',\n",
       " 'NzhiZDA2MTYtZmYzOS00OTgwLTg1YjgtMjNlOWMyOThjMGUy',\n",
       " 'Y2Y1YWMzNzQtZTQ4Ni00YmRjLTljNGEtMTM4ODIxNGJhZTRm',\n",
       " 'MjU0MTQxMDctZjgxYy00ZDM0LTk1MWEtNjA4NjhjOTAzNTlm',\n",
       " 'NzM0NTI2Y2MtNDdhNi00NzAzLWE2YjEtZjNlMjYxNzFkNDBk',\n",
       " 'NTU4MWUyMWQtOWU4Ni00ZGEwLWEwZTctMzk1ZjcyZjdkZDMx',\n",
       " 'YmJiYTlkMjItYWFmZC00YzkxLWIxNGItNTcwZDIzNDQ0YmQ4',\n",
       " 'NTJhMjg0ZDctM2Q4Ny00NTk2LTk3MmYtMzI0MzJkODhiMDYx',\n",
       " 'N2Q2MDFhZmUtOWMyZC00OTFhLTg3ZDQtNDFmZTU4ODU0YTZi',\n",
       " 'ZTY5ODE2NjAtNDI1MS00OGFmLWI2YjUtYjNlZGIyZjZiZmY4',\n",
       " 'MjRkOGJiZWItYjJhYy00NTU1LWE3NDktODM4ZGI1ODdkNDRj',\n",
       " 'NTc4MTQ5YzUtYzM1NS00NTExLWFiOTktYzQ1NzA0NGMxZTIy',\n",
       " 'NzBhY2U5YzktMWRiNy00MWNlLWI0ZjktMTZmNzIzMzg0ZGUx',\n",
       " 'YjFmYTdiZTYtMWE3Zi00MmMwLWEyMjktZTY5NWM1ODQ0ZGMy',\n",
       " 'NzFjNDBmMTItMWFmZC00NjBlLWI3MDAtNzljMDUwYjNkNmIy',\n",
       " 'ODE4ZTQzYjYtNGFiYS00NzAxLWEyOGYtMThjMjlhMDBhZTBj']"
      ]
     },
     "execution_count": 27,
     "metadata": {},
     "output_type": "execute_result"
    }
   ],
   "source": [
    "vector_store.add_documents(documents=docs)"
   ]
  },
  {
   "cell_type": "markdown",
   "metadata": {},
   "source": [
    "### Perform Vector Similarity Search"
   ]
  },
  {
   "cell_type": "code",
   "execution_count": 29,
   "metadata": {},
   "outputs": [
    {
     "name": "stdout",
     "output_type": "stream",
     "text": [
      "Eastern Coral Snake. The Copperhead is the most common \n",
      "and widespread venomous snake in North Carolina, occur-\n",
      "ring in both rural and urban environments. Four of the six \n",
      "are protected species in North Carolina, and as such, should \n",
      "not be handled or disturbed: the Timber and Pigmy Rattle-\n"
     ]
    }
   ],
   "source": [
    "docs = vector_store.similarity_search(\n",
    "    query=\"What are the venomous snakes in north carolina\",\n",
    "    k=3,\n",
    "    search_type=\"similarity\",\n",
    ")\n",
    "print(docs[0].page_content)"
   ]
  },
  {
   "cell_type": "markdown",
   "metadata": {},
   "source": [
    "### Perform Hybrid Search"
   ]
  },
  {
   "cell_type": "code",
   "execution_count": 30,
   "metadata": {},
   "outputs": [
    {
     "name": "stdout",
     "output_type": "stream",
     "text": [
      "How many snakes in North Carolina are \n",
      "Venomous?\n",
      "Out of the thirty-eight different species of snakes in North \n",
      "Carolina, only six are venomous. Venomous snakes include \n",
      "the Copperhead, Cottonmouth, Timber Rattlesnake, Eastern \n",
      "Diamondback Rattlesnake, Pigmy Rattlesnake, and the\n"
     ]
    }
   ],
   "source": [
    "docs = vector_store.similarity_search(\n",
    "    query=\"What are the venomous snakes in north carolina\",\n",
    "    k=3, \n",
    "    search_type=\"hybrid\"\n",
    ")\n",
    "print(docs[0].page_content)"
   ]
  },
  {
   "cell_type": "markdown",
   "metadata": {},
   "source": [
    "### Semantic Search"
   ]
  },
  {
   "cell_type": "code",
   "execution_count": 44,
   "metadata": {},
   "outputs": [],
   "source": [
    "# vectore_store_setup for semantic search.\n",
    "# semantic search has to be enabled in azure cognitive search\n",
    "# and add semantic configuration with the name \"default\" in the index that you do query.\n",
    "# index located in azure cognitive search service\n",
    "index_name: str = \"facts-about-snakes\"\n",
    "\n",
    "vector_store: AzureSearch = AzureSearch(\n",
    "    azure_search_endpoint=vector_store_address,\n",
    "    azure_search_key=vector_store_password,\n",
    "    index_name=index_name,\n",
    "    semantic_configuration_name=\"default\",\n",
    "    embedding_function=embeddings.embed_query\n",
    ")"
   ]
  },
  {
   "cell_type": "code",
   "execution_count": 45,
   "metadata": {},
   "outputs": [
    {
     "name": "stdout",
     "output_type": "stream",
     "text": [
      "How many snakes in North Carolina are \n",
      "Venomous?\n",
      "Out of the thirty-eight different species of snakes in North \n",
      "Carolina, only six are venomous. Venomous snakes include \n",
      "the Copperhead, Cottonmouth, Timber Rattlesnake, Eastern \n",
      "Diamondback Rattlesnake, Pigmy Rattlesnake, and the\n"
     ]
    }
   ],
   "source": [
    "docs = vector_store.similarity_search(\n",
    "    query=\"What are the venomous snakes in north carolina\",\n",
    "    k=3, \n",
    "    search_type=\"semantic_hybrid\"\n",
    ")\n",
    "print(docs[0].page_content)"
   ]
  }
 ],
 "metadata": {
  "kernelspec": {
   "display_name": "Python 3",
   "language": "python",
   "name": "python3"
  },
  "language_info": {
   "codemirror_mode": {
    "name": "ipython",
    "version": 3
   },
   "file_extension": ".py",
   "mimetype": "text/x-python",
   "name": "python",
   "nbconvert_exporter": "python",
   "pygments_lexer": "ipython3",
   "version": "3.10.12"
  },
  "orig_nbformat": 4
 },
 "nbformat": 4,
 "nbformat_minor": 2
}
