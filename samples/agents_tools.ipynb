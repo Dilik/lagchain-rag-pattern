{
 "cells": [
  {
   "cell_type": "code",
   "execution_count": 10,
   "metadata": {},
   "outputs": [],
   "source": [
    "import openai\n",
    "import os\n",
    "from pprint import pprint\n",
    "from langchain.embeddings.openai import OpenAIEmbeddings\n",
    "from langchain.vectorstores.azuresearch import AzureSearch\n",
    "from langchain.document_loaders import PyPDFLoader\n",
    "from langchain.text_splitter import CharacterTextSplitter\n",
    "from langchain.chat_models import AzureChatOpenAI\n",
    "\n",
    "# read local .env file\n",
    "from dotenv import load_dotenv, find_dotenv\n",
    "_ = load_dotenv(find_dotenv()) \n",
    "\n",
    "# setup azure openai api\n",
    "openai.api_type = \"azure\"\n",
    "openai.api_base = os.getenv(\"AZURE_OAI_ENDPOINT\")\n",
    "# openai.api_version = \"2023-03-15-preview\"\n",
    "openai.api_version = \"2023-05-15\"\n",
    "openai.api_key  = os.getenv('AZURE_OAI_KEY')\n",
    "\n",
    "llm_name = \"gpt-3.5-turbo\"\n",
    "deployment_name_gpt = os.getenv(\"AZURE_OAI_MODEL_GPT_3\")\n",
    "deployment_name_ada = os.getenv(\"AZURE_OAI_MODEL_ADA\")\n",
    "\n",
    "vector_store_address: str = os.getenv(\"AZURE_SEARCH_ENDPOINT\")\n",
    "vector_store_password: str = os.getenv(\"AZURE_SEARCH_ADMIN_KEY\")\n",
    "\n",
    "os.environ[\"OPENAI_API_TYPE\"] = openai.api_type\n",
    "os.environ[\"OPENAI_API_BASE\"] = openai.api_base\n",
    "os.environ[\"OPENAI_API_KEY\"] = openai.api_key\n",
    "os.environ[\"OPENAI_API_VERSION\"] = openai.api_version"
   ]
  },
  {
   "cell_type": "code",
   "execution_count": 6,
   "metadata": {},
   "outputs": [],
   "source": [
    "llm = AzureChatOpenAI(deployment_name=deployment_name_gpt)"
   ]
  },
  {
   "cell_type": "code",
   "execution_count": 61,
   "metadata": {},
   "outputs": [],
   "source": [
    "embeddings: OpenAIEmbeddings = OpenAIEmbeddings(deployment=deployment_name_ada, chunk_size=1)\n",
    "index_name: str = \"facts-about-snakes\"\n",
    "azure_search_store: AzureSearch = AzureSearch(\n",
    "    azure_search_endpoint=vector_store_address,\n",
    "    azure_search_key=vector_store_password,\n",
    "    index_name=index_name,\n",
    "    semantic_configuration_name=\"default\",\n",
    "    embedding_function=embeddings.embed_query,\n",
    ")"
   ]
  },
  {
   "cell_type": "code",
   "execution_count": 8,
   "metadata": {},
   "outputs": [],
   "source": [
    "azure_search_retreiver = azure_search_store.as_retriever(search_kwargs={\"k\":4})"
   ]
  },
  {
   "cell_type": "markdown",
   "metadata": {},
   "source": [
    "### chains"
   ]
  },
  {
   "cell_type": "code",
   "execution_count": 9,
   "metadata": {},
   "outputs": [],
   "source": [
    "from langchain.chains import RetrievalQA\n",
    "acs_qa = RetrievalQA.from_chain_type(llm=llm, chain_type=\"stuff\", retriever=azure_search_retreiver)"
   ]
  },
  {
   "cell_type": "code",
   "execution_count": 11,
   "metadata": {},
   "outputs": [
    {
     "name": "stdout",
     "output_type": "stream",
     "text": [
      "('The document mentions six types of snakes found in North Carolina. These '\n",
      " 'include the Copperhead, Timber Rattlesnake, Pigmy Rattlesnake, Eastern '\n",
      " 'Diamondback Rattlesnake, and Eastern Coral Snake.')\n"
     ]
    }
   ],
   "source": [
    "pprint(acs_qa.run(\"what are the snakes covered in the document?\"))"
   ]
  },
  {
   "cell_type": "markdown",
   "metadata": {},
   "source": [
    "### Tools"
   ]
  },
  {
   "cell_type": "code",
   "execution_count": 23,
   "metadata": {},
   "outputs": [],
   "source": [
    "from langchain.agents import Tool\n",
    "\n",
    "description=(\n",
    "    \"Useful FAQ about Snakes in North Carolina. \"\n",
    "    \"You should ALWAYS use this tool whenever you need to answer a question about Snakes, \"\n",
    ")\n",
    "\n",
    "acs_tool = Tool(name=\"acs_search\", description=description, func=acs_qa.run)\n"
   ]
  },
  {
   "cell_type": "code",
   "execution_count": 24,
   "metadata": {},
   "outputs": [
    {
     "name": "stdout",
     "output_type": "stream",
     "text": [
      "Tool(name='acs_search', description='Useful FAQ about Snakes in North Carolina. You should ALWAYS use this tool whenever you need to answer a question about Snakes, ', args_schema=None, return_direct=False, verbose=False, callbacks=None, callback_manager=None, tags=None, metadata=None, handle_tool_error=False, func=<bound method Chain.run of RetrievalQA(memory=None, callbacks=None, callback_manager=None, verbose=False, tags=None, metadata=None, combine_documents_chain=StuffDocumentsChain(memory=None, callbacks=None, callback_manager=None, verbose=False, tags=None, metadata=None, input_key='input_documents', output_key='output_text', llm_chain=LLMChain(memory=None, callbacks=None, callback_manager=None, verbose=False, tags=None, metadata=None, prompt=ChatPromptTemplate(input_variables=['context', 'question'], output_parser=None, partial_variables={}, messages=[SystemMessagePromptTemplate(prompt=PromptTemplate(input_variables=['context'], output_parser=None, partial_variables={}, template=\"Use the following pieces of context to answer the users question. \\nIf you don't know the answer, just say that you don't know, don't try to make up an answer.\\n----------------\\n{context}\", template_format='f-string', validate_template=True), additional_kwargs={}), HumanMessagePromptTemplate(prompt=PromptTemplate(input_variables=['question'], output_parser=None, partial_variables={}, template='{question}', template_format='f-string', validate_template=True), additional_kwargs={})]), llm=AzureChatOpenAI(cache=None, verbose=False, callbacks=None, callback_manager=None, tags=None, metadata=None, client=<class 'openai.api_resources.chat_completion.ChatCompletion'>, model_name='gpt-3.5-turbo', temperature=0.7, model_kwargs={}, openai_api_key='a59d2c90dc4b4860b02216fe4adaa249', openai_api_base='https://openaiserviceworkshop.openai.azure.com/', openai_organization='', openai_proxy='', request_timeout=None, max_retries=6, streaming=False, n=1, max_tokens=None, tiktoken_model_name=None, deployment_name='openai-workshop-deployment-environment', openai_api_type='azure', openai_api_version='2023-05-15'), output_key='text', output_parser=StrOutputParser(), return_final_only=True, llm_kwargs={}), document_prompt=PromptTemplate(input_variables=['page_content'], output_parser=None, partial_variables={}, template='{page_content}', template_format='f-string', validate_template=True), document_variable_name='context', document_separator='\\n\\n'), input_key='query', output_key='result', return_source_documents=False, retriever=VectorStoreRetriever(tags=['AzureSearch'], metadata=None, vectorstore=<langchain.vectorstores.azuresearch.AzureSearch object at 0xffffa460a1d0>, search_type='similarity', search_kwargs={'k': 4}))>, coroutine=None)\n"
     ]
    }
   ],
   "source": [
    "pprint(acs_tool)"
   ]
  },
  {
   "cell_type": "markdown",
   "metadata": {},
   "source": [
    "### Create Agents from tools"
   ]
  },
  {
   "cell_type": "code",
   "execution_count": 25,
   "metadata": {},
   "outputs": [],
   "source": [
    "from langchain.agents import AgentType\n",
    "from langchain.memory import ConversationBufferMemory\n",
    "from langchain.agents import initialize_agent"
   ]
  },
  {
   "cell_type": "code",
   "execution_count": 26,
   "metadata": {},
   "outputs": [],
   "source": [
    "memory = ConversationBufferMemory(memory_key=\"chat_history\", return_messages=True)\n",
    "tools = [acs_tool]\n",
    "agent_chain = initialize_agent(tools, llm, agent=AgentType.CHAT_CONVERSATIONAL_REACT_DESCRIPTION, verbose=True, memory=memory)"
   ]
  },
  {
   "cell_type": "markdown",
   "metadata": {},
   "source": [
    "### Test refined tools"
   ]
  },
  {
   "cell_type": "code",
   "execution_count": 37,
   "metadata": {},
   "outputs": [
    {
     "name": "stdout",
     "output_type": "stream",
     "text": [
      "\n",
      "\n",
      "\u001b[1m> Entering new AgentExecutor chain...\u001b[0m\n",
      "\u001b[32;1m\u001b[1;3m```json\n",
      "{\n",
      "    \"action\": \"acs_search\",\n",
      "    \"action_input\": \"Snakes in North Carolina\"\n",
      "}\n",
      "```\u001b[0m\n",
      "Observation: \u001b[36;1m\u001b[1;3mNorth Carolina is home to thirty-eight different species of snakes, out of which six are venomous. The venomous snakes include the Copperhead, Cottonmouth, Timber Rattlesnake, Eastern Diamondback Rattlesnake, Pigmy Rattlesnake, and the Eastern Coral Snake. The Copperhead is the most common and widespread venomous snake in North Carolina, occurring in both rural and urban environments.\u001b[0m\n",
      "Thought:\u001b[32;1m\u001b[1;3m```json\n",
      "{\n",
      "    \"action\": \"Final Answer\",\n",
      "    \"action_input\": \"The six venomous snake species found in North Carolina are the Copperhead, Cottonmouth, Timber Rattlesnake, Eastern Diamondback Rattlesnake, Pigmy Rattlesnake, and the Eastern Coral Snake. The Copperhead is the most common and widespread venomous snake in North Carolina.\"\n",
      "}\n",
      "```\u001b[0m\n",
      "\n",
      "\u001b[1m> Finished chain.\u001b[0m\n"
     ]
    },
    {
     "data": {
      "text/plain": [
       "'The six venomous snake species found in North Carolina are the Copperhead, Cottonmouth, Timber Rattlesnake, Eastern Diamondback Rattlesnake, Pigmy Rattlesnake, and the Eastern Coral Snake. The Copperhead is the most common and widespread venomous snake in North Carolina.'"
      ]
     },
     "execution_count": 37,
     "metadata": {},
     "output_type": "execute_result"
    }
   ],
   "source": [
    "agent_chain.run(\"What are the venomous snakes in North Carolina?\")"
   ]
  },
  {
   "cell_type": "code",
   "execution_count": 44,
   "metadata": {},
   "outputs": [
    {
     "name": "stdout",
     "output_type": "stream",
     "text": [
      "\n",
      "\n",
      "\u001b[1m> Entering new AgentExecutor chain...\u001b[0m\n",
      "\u001b[32;1m\u001b[1;3m{\n",
      "    \"action\": \"acs_search\",\n",
      "    \"action_input\": \"Eastern Coral Snake facts\"\n",
      "}\u001b[0m\n",
      "Observation: \u001b[36;1m\u001b[1;3m- The Eastern Coral Snake is one of the six venomous snakes found in North Carolina.\n",
      "- It is an endangered species in North Carolina and should not be handled or disturbed.\n",
      "- The Eastern Coral Snake has distinctive bright red, yellow, and black bands on its body that are arranged in a specific pattern. The rhyme \"Red and yellow, kill a fellow; red and black, friend of Jack\" is used to help people identify it and distinguish it from non-venomous mimics.\n",
      "- The venom of the Eastern Coral Snake contains a neurotoxin that affects the nervous system and can cause paralysis or respiratory failure if left untreated.\n",
      "- The Eastern Coral Snake is a burrowing snake and spends most of its time underground. It is most active during the warmer months and feeds on small rodents, lizards, and other snakes.\n",
      "- The Eastern Coral Snake is found in the southeastern United States, from North Carolina to Louisiana, and in parts of Mexico and Central America.\u001b[0m\n",
      "Thought:\u001b[32;1m\u001b[1;3m{\n",
      "    \"action\": \"Final Answer\",\n",
      "    \"action_input\": \"The Eastern Coral Snake is an endangered venomous snake species found in North Carolina. It has distinctive red, yellow, and black banding and is usually found in wooded areas or marshy environments. It is not aggressive and usually only bites when it feels threatened. Its venom is highly toxic and can cause serious health problems, including muscle paralysis and respiratory failure.\"\n",
      "}\u001b[0m\n",
      "\n",
      "\u001b[1m> Finished chain.\u001b[0m\n"
     ]
    },
    {
     "data": {
      "text/plain": [
       "'The Eastern Coral Snake is an endangered venomous snake species found in North Carolina. It has distinctive red, yellow, and black banding and is usually found in wooded areas or marshy environments. It is not aggressive and usually only bites when it feels threatened. Its venom is highly toxic and can cause serious health problems, including muscle paralysis and respiratory failure.'"
      ]
     },
     "execution_count": 44,
     "metadata": {},
     "output_type": "execute_result"
    }
   ],
   "source": [
    "agent_chain.run(\"give me some facts about Eastern Coral Snake?\")"
   ]
  },
  {
   "cell_type": "code",
   "execution_count": 46,
   "metadata": {},
   "outputs": [
    {
     "data": {
      "text/plain": [
       "{'chat_history': [HumanMessage(content='What are the venomous snakes in North Carolina?', additional_kwargs={}, example=False),\n",
       "  AIMessage(content='North Carolina has six venomous snakes: the Copperhead, Cottonmouth, Timber Rattlesnake, Eastern Diamondback Rattlesnake, Pigmy Rattlesnake, and the Eastern Coral Snake.', additional_kwargs={}, example=False)]}"
      ]
     },
     "execution_count": 46,
     "metadata": {},
     "output_type": "execute_result"
    }
   ],
   "source": [
    "memory.load_memory_variables({})"
   ]
  },
  {
   "cell_type": "markdown",
   "metadata": {},
   "source": [
    "### Custom Tool"
   ]
  },
  {
   "cell_type": "code",
   "execution_count": 56,
   "metadata": {},
   "outputs": [],
   "source": [
    "from typing import Optional, Type\n",
    "from langchain.tools import BaseTool\n",
    "\n",
    "from langchain.callbacks.manager import (\n",
    "    AsyncCallbackManagerForToolRun,\n",
    "    CallbackManagerForToolRun,\n",
    ")"
   ]
  },
  {
   "cell_type": "code",
   "execution_count": 57,
   "metadata": {},
   "outputs": [],
   "source": [
    "class CustomSearchTool(BaseTool):\n",
    "    name = \"custom_search\"\n",
    "    description = \"useful for when you need to answer search from azure cognitive seach\"\n",
    "\n",
    "    def _run(\n",
    "        self, query: str, run_manager: Optional[CallbackManagerForToolRun] = None\n",
    "    ) -> str:\n",
    "        \"\"\"Use the tool.\"\"\"\n",
    "        return azure_search_store.similarity_search(\n",
    "            query=query, \n",
    "            k=4,\n",
    "            search_type=\"hybrid\"\n",
    "        )\n",
    "\n",
    "    async def _arun(\n",
    "        self, query: str, run_manager: Optional[AsyncCallbackManagerForToolRun] = None\n",
    "    ) -> str:\n",
    "        \"\"\"Use the tool asynchronously.\"\"\"\n",
    "        raise NotImplementedError(\"custom_search does not support async\")\n"
   ]
  },
  {
   "cell_type": "code",
   "execution_count": 62,
   "metadata": {},
   "outputs": [],
   "source": [
    "acs_tools = [CustomSearchTool()]\n",
    "agent = initialize_agent(\n",
    "    acs_tools, llm, agent=AgentType.ZERO_SHOT_REACT_DESCRIPTION, verbose=True\n",
    ")"
   ]
  },
  {
   "cell_type": "code",
   "execution_count": 63,
   "metadata": {},
   "outputs": [
    {
     "name": "stdout",
     "output_type": "stream",
     "text": [
      "\n",
      "\n",
      "\u001b[1m> Entering new AgentExecutor chain...\u001b[0m\n",
      "\u001b[32;1m\u001b[1;3mI should search for a list of venomous snakes to answer this question.\n",
      "Action: custom_search\n",
      "Action Input: \"list of venomous snakes\"\u001b[0m\n",
      "Observation: \u001b[36;1m\u001b[1;3m[Document(page_content='Few creatures are as widely misunderstood as snakes.  \\nFueled by myths and old-wives tales, many people \\nfear snakes and worry for the safety of people and pets when snakes are present. In reality, snakes are \\nshy creatures that pose little to no threat to us when  \\nleft alone. Snakes are an important part of our environment, keeping populations of pests such as rodents, slugs, and insects in check. Plus, snakes are a food resource to other animals such as foxes, raccoons, bears, eagles, hawks, and owls.    \\ncoexist  with\\nSnakes\\nSnake Quick Facts: \\nHow many snakes in North Carolina are \\nVenomous?\\nOut of the thirty-eight different species of snakes in North \\nCarolina, only six are venomous. Venomous snakes include \\nthe Copperhead, Cottonmouth, Timber Rattlesnake, Eastern \\nDiamondback Rattlesnake, Pigmy Rattlesnake, and the \\nEastern Coral Snake. The Copperhead is the most common \\nand widespread venomous snake in North Carolina, occur-', metadata={'source': 'temp.pdf', 'page': 0, 'captions': {'text': 'Out of the thirty-eight different species of snakes in North  Carolina, only six are venomous. Venomous snakes include  the Copperhead, Cottonmouth, Timber Rattlesnake, Eastern  Diamondback Rattlesnake, Pigmy Rattlesnake, and the  Eastern Coral Snake. The Copperhead is the most common  and widespread venomous snake in North Carolina, occur-.\\x00', 'highlights': 'Out of the thirty-eight different species of snakes in North  Carolina, only six are venomous. Venomous snakes include  the<em> Copperhead, Cottonmouth, Timber Rattlesnake, Eastern  Diamondback Rattlesnake, Pigmy Rattlesnake,</em> and the  Eastern Coral Snake. The Copperhead is the most common  and widespread venomous snake in North Carolina, occur-.\\x00'}, 'answers': ''}), Document(page_content='Few creatures are as widely misunderstood as snakes.  \\nFueled by myths and old-wives tales, many people \\nfear snakes and worry for the safety of people and pets when snakes are present. In reality, snakes are \\nshy creatures that pose little to no threat to us when  \\nleft alone. Snakes are an important part of our environment, keeping populations of pests such as rodents, slugs, and insects in check. Plus, snakes are a food resource to other animals such as foxes, raccoons, bears, eagles, hawks, and owls.    \\ncoexist  with\\nSnakes\\nSnake Quick Facts: \\nHow many snakes in North Carolina are \\nVenomous?\\nOut of the thirty-eight different species of snakes in North \\nCarolina, only six are venomous. Venomous snakes include \\nthe Copperhead, Cottonmouth, Timber Rattlesnake, Eastern \\nDiamondback Rattlesnake, Pigmy Rattlesnake, and the \\nEastern Coral Snake. The Copperhead is the most common \\nand widespread venomous snake in North Carolina, occur-', metadata={'source': '../data/snakes.pdf', 'page': 0, 'captions': {'text': 'Out of the thirty-eight different species of snakes in North  Carolina, only six are venomous. Venomous snakes include  the Copperhead, Cottonmouth, Timber Rattlesnake, Eastern  Diamondback Rattlesnake, Pigmy Rattlesnake, and the  Eastern Coral Snake. The Copperhead is the most common  and widespread venomous snake in North Carolina, occur-.\\x00', 'highlights': 'Out of the thirty-eight different species of snakes in North  Carolina, only six are venomous. Venomous snakes include  the<em> Copperhead, Cottonmouth, Timber Rattlesnake, Eastern  Diamondback Rattlesnake, Pigmy Rattlesnake,</em> and the  Eastern Coral Snake. The Copperhead is the most common  and widespread venomous snake in North Carolina, occur-.\\x00'}, 'answers': ''}), Document(page_content='Few creatures are as widely misunderstood as snakes.  \\nFueled by myths and old-wives tales, many people \\nfear snakes and worry for the safety of people and pets when snakes are present. In reality, snakes are \\nshy creatures that pose little to no threat to us when  \\nleft alone. Snakes are an important part of our environment, keeping populations of pests such as rodents, slugs, and insects in check. Plus, snakes are a food resource to other animals such as foxes, raccoons, bears, eagles, hawks, and owls.    \\ncoexist  with\\nSnakes\\nSnake Quick Facts: \\nHow many snakes in North Carolina are \\nVenomous?\\nOut of the thirty-eight different species of snakes in North \\nCarolina, only six are venomous. Venomous snakes include \\nthe Copperhead, Cottonmouth, Timber Rattlesnake, Eastern \\nDiamondback Rattlesnake, Pigmy Rattlesnake, and the \\nEastern Coral Snake. The Copperhead is the most common \\nand widespread venomous snake in North Carolina, occur-', metadata={'source': '../data/snakes.pdf', 'page': 0, 'captions': {'text': 'Out of the thirty-eight different species of snakes in North  Carolina, only six are venomous. Venomous snakes include  the Copperhead, Cottonmouth, Timber Rattlesnake, Eastern  Diamondback Rattlesnake, Pigmy Rattlesnake, and the  Eastern Coral Snake. The Copperhead is the most common  and widespread venomous snake in North Carolina, occur-.\\x00', 'highlights': 'Out of the thirty-eight different species of snakes in North  Carolina, only six are venomous. Venomous snakes include  the<em> Copperhead, Cottonmouth, Timber Rattlesnake, Eastern  Diamondback Rattlesnake, Pigmy Rattlesnake,</em> and the  Eastern Coral Snake. The Copperhead is the most common  and widespread venomous snake in North Carolina, occur-.\\x00'}, 'answers': ''}), Document(page_content='Carolina, only six are venomous. Venomous snakes include \\nthe Copperhead, Cottonmouth, Timber Rattlesnake, Eastern \\nDiamondback Rattlesnake, Pigmy Rattlesnake, and the \\nEastern Coral Snake. The Copperhead is the most common \\nand widespread venomous snake in North Carolina, occur-\\nring in both rural and urban environments. Four of the six', metadata={'source': '../data/snakes.pdf', 'page': 0, 'captions': {'text': 'Carolina, only six are venomous. Venomous snakes include \\nthe Copperhead, Cottonmouth, Timber Rattlesnake, Eastern \\nDiamondback Rattlesnake, Pigmy Rattlesnake, and the \\nEastern Coral Snake. The Copperhead is the most common \\nand widespread venomous snake in North Carolina, occur-\\nring in both rural and urban environments. Four of the six.', 'highlights': 'Carolina, only six are venomous. Venomous snakes include \\nthe<em> Copperhead, Cottonmouth, Timber Rattlesnake, Eastern \\nDiamondback Rattlesnake, Pigmy Rattlesnake,</em> and the \\nEastern Coral Snake. The Copperhead is the most common \\nand widespread venomous snake in North Carolina, occur-\\nring in both rural and urban environments. Four of the six.'}, 'answers': ''})]\u001b[0m\n",
      "Thought:\u001b[32;1m\u001b[1;3mBased on the observation, I can see that the Copperhead, Cottonmouth, Timber Rattlesnake, Eastern Diamondback Rattlesnake, Pigmy Rattlesnake, and Eastern Coral Snake are all venomous snakes.\n",
      "Final Answer: Some venomous snakes include the Copperhead, Cottonmouth, Timber Rattlesnake, Eastern Diamondback Rattlesnake, Pigmy Rattlesnake, and Eastern Coral Snake.\u001b[0m\n",
      "\n",
      "\u001b[1m> Finished chain.\u001b[0m\n"
     ]
    },
    {
     "data": {
      "text/plain": [
       "'Some venomous snakes include the Copperhead, Cottonmouth, Timber Rattlesnake, Eastern Diamondback Rattlesnake, Pigmy Rattlesnake, and Eastern Coral Snake.'"
      ]
     },
     "execution_count": 63,
     "metadata": {},
     "output_type": "execute_result"
    }
   ],
   "source": [
    "agent.run(\"What are the some venomous snakes? \")"
   ]
  }
 ],
 "metadata": {
  "kernelspec": {
   "display_name": "Python 3",
   "language": "python",
   "name": "python3"
  },
  "language_info": {
   "codemirror_mode": {
    "name": "ipython",
    "version": 3
   },
   "file_extension": ".py",
   "mimetype": "text/x-python",
   "name": "python",
   "nbconvert_exporter": "python",
   "pygments_lexer": "ipython3",
   "version": "3.10.12"
  },
  "orig_nbformat": 4
 },
 "nbformat": 4,
 "nbformat_minor": 2
}
