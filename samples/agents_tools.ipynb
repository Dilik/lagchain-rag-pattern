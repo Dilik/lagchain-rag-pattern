{
 "cells": [
  {
   "cell_type": "code",
   "execution_count": null,
   "metadata": {},
   "outputs": [],
   "source": [
    "import openai\n",
    "import os\n",
    "from pprint import pprint\n",
    "from langchain.embeddings.openai import OpenAIEmbeddings\n",
    "from langchain.vectorstores.azuresearch import AzureSearch\n",
    "from langchain.document_loaders import PyPDFLoader\n",
    "from langchain.text_splitter import CharacterTextSplitter\n",
    "from langchain.chat_models import AzureChatOpenAI\n",
    "\n",
    "# read local .env file\n",
    "from dotenv import load_dotenv, find_dotenv\n",
    "_ = load_dotenv(find_dotenv()) \n",
    "\n",
    "# setup azure openai api\n",
    "openai.api_type = \"azure\"\n",
    "openai.api_base = os.getenv(\"AZURE_OAI_ENDPOINT\")\n",
    "# openai.api_version = \"2023-03-15-preview\"\n",
    "openai.api_version = \"2023-05-15\"\n",
    "openai.api_key  = os.getenv('AZURE_OAI_KEY')\n",
    "\n",
    "llm_name = \"gpt-3.5-turbo\"\n",
    "deployment_name_gpt = os.getenv(\"AZURE_OAI_MODEL_GPT_3\")\n",
    "deployment_name_ada = os.getenv(\"AZURE_OAI_MODEL_ADA\")\n",
    "\n",
    "vector_store_address: str = os.getenv(\"AZURE_SEARCH_ENDPOINT\")\n",
    "vector_store_password: str = os.getenv(\"AZURE_SEARCH_ADMIN_KEY\")\n",
    "\n",
    "os.environ[\"OPENAI_API_TYPE\"] = openai.api_type\n",
    "os.environ[\"OPENAI_API_BASE\"] = openai.api_base\n",
    "os.environ[\"OPENAI_API_KEY\"] = openai.api_key\n",
    "os.environ[\"OPENAI_API_VERSION\"] = openai.api_version"
   ]
  },
  {
   "cell_type": "code",
   "execution_count": null,
   "metadata": {},
   "outputs": [],
   "source": [
    "llm = AzureChatOpenAI(deployment_name=deployment_name_gpt)"
   ]
  },
  {
   "cell_type": "code",
   "execution_count": null,
   "metadata": {},
   "outputs": [],
   "source": [
    "embeddings: OpenAIEmbeddings = OpenAIEmbeddings(deployment=deployment_name_ada, chunk_size=1)\n",
    "index_name: str = \"facts-about-snakes\"\n",
    "azure_search_store: AzureSearch = AzureSearch(\n",
    "    azure_search_endpoint=vector_store_address,\n",
    "    azure_search_key=vector_store_password,\n",
    "    index_name=index_name,\n",
    "    semantic_configuration_name=\"default\",\n",
    "    embedding_function=embeddings.embed_query,\n",
    ")"
   ]
  },
  {
   "cell_type": "code",
   "execution_count": null,
   "metadata": {},
   "outputs": [],
   "source": [
    "azure_search_retreiver = azure_search_store.as_retriever(search_kwargs={\"k\":4})"
   ]
  },
  {
   "cell_type": "markdown",
   "metadata": {},
   "source": [
    "### chains"
   ]
  },
  {
   "cell_type": "code",
   "execution_count": null,
   "metadata": {},
   "outputs": [],
   "source": [
    "from langchain.chains import RetrievalQA\n",
    "acs_qa = RetrievalQA.from_chain_type(llm=llm, chain_type=\"stuff\", retriever=azure_search_retreiver)"
   ]
  },
  {
   "cell_type": "code",
   "execution_count": null,
   "metadata": {},
   "outputs": [],
   "source": [
    "pprint(acs_qa.run(\"what are the snakes covered in the document?\"))"
   ]
  },
  {
   "cell_type": "markdown",
   "metadata": {},
   "source": [
    "### Tools"
   ]
  },
  {
   "cell_type": "code",
   "execution_count": null,
   "metadata": {},
   "outputs": [],
   "source": [
    "from langchain.agents import Tool\n",
    "\n",
    "description=(\n",
    "    \"Useful FAQ about Snakes in North Carolina. \"\n",
    "    \"You should ALWAYS use this tool whenever you need to answer a question about Snakes, \"\n",
    ")\n",
    "\n",
    "acs_tool = Tool(name=\"acs_search\", description=description, func=acs_qa.run)\n"
   ]
  },
  {
   "cell_type": "code",
   "execution_count": null,
   "metadata": {},
   "outputs": [],
   "source": [
    "pprint(acs_tool)"
   ]
  },
  {
   "cell_type": "markdown",
   "metadata": {},
   "source": [
    "### Create Agents from tools"
   ]
  },
  {
   "cell_type": "code",
   "execution_count": null,
   "metadata": {},
   "outputs": [],
   "source": [
    "from langchain.agents import AgentType\n",
    "from langchain.memory import ConversationBufferMemory\n",
    "from langchain.agents import initialize_agent"
   ]
  },
  {
   "cell_type": "code",
   "execution_count": null,
   "metadata": {},
   "outputs": [],
   "source": [
    "memory = ConversationBufferMemory(memory_key=\"chat_history\", return_messages=True)\n",
    "tools = [acs_tool]\n",
    "agent_chain = initialize_agent(tools, llm, agent=AgentType.CHAT_CONVERSATIONAL_REACT_DESCRIPTION, verbose=True, memory=memory)"
   ]
  },
  {
   "cell_type": "markdown",
   "metadata": {},
   "source": [
    "### Test refined tools"
   ]
  },
  {
   "cell_type": "code",
   "execution_count": null,
   "metadata": {},
   "outputs": [],
   "source": [
    "agent_chain.run(\"What are the venomous snakes in North Carolina?\")"
   ]
  },
  {
   "cell_type": "code",
   "execution_count": null,
   "metadata": {},
   "outputs": [],
   "source": [
    "agent_chain.run(\"give me some facts about Eastern Coral Snake?\")"
   ]
  },
  {
   "cell_type": "code",
   "execution_count": null,
   "metadata": {},
   "outputs": [],
   "source": [
    "memory.load_memory_variables({})"
   ]
  },
  {
   "cell_type": "markdown",
   "metadata": {},
   "source": [
    "### Custom Tool"
   ]
  },
  {
   "cell_type": "code",
   "execution_count": null,
   "metadata": {},
   "outputs": [],
   "source": [
    "from typing import Optional, Type\n",
    "from langchain.tools import BaseTool\n",
    "\n",
    "from langchain.callbacks.manager import (\n",
    "    AsyncCallbackManagerForToolRun,\n",
    "    CallbackManagerForToolRun,\n",
    ")"
   ]
  },
  {
   "cell_type": "code",
   "execution_count": null,
   "metadata": {},
   "outputs": [],
   "source": [
    "class CustomSearchTool(BaseTool):\n",
    "    name = \"custom_search\"\n",
    "    description = \"useful for when you need to answer search from azure cognitive seach\"\n",
    "\n",
    "    def _run(\n",
    "        self, query: str, run_manager: Optional[CallbackManagerForToolRun] = None\n",
    "    ) -> str:\n",
    "        \"\"\"Use the tool.\"\"\"\n",
    "        return azure_search_store.similarity_search(\n",
    "            query=query, \n",
    "            k=4,\n",
    "            search_type=\"semantic_hybrid\"\n",
    "        )\n",
    "\n",
    "    async def _arun(\n",
    "        self, query: str, run_manager: Optional[AsyncCallbackManagerForToolRun] = None\n",
    "    ) -> str:\n",
    "        \"\"\"Use the tool asynchronously.\"\"\"\n",
    "        raise NotImplementedError(\"custom_search does not support async\")\n"
   ]
  },
  {
   "cell_type": "code",
   "execution_count": 110,
   "metadata": {},
   "outputs": [],
   "source": [
    "# from langchain.agents import tool\n",
    "\n",
    "# @tool\n",
    "# def acs_search_semantic(query: str):\n",
    "#     \"\"\"Returns the length of a word.\"\"\"\n",
    "#     return azure_search_store.similarity_search(\n",
    "#             query=query, \n",
    "#             k=4,\n",
    "#             search_type=\"semantic_hybrid\"\n",
    "#         )"
   ]
  },
  {
   "cell_type": "code",
   "execution_count": 114,
   "metadata": {},
   "outputs": [],
   "source": [
    "acs_tools = [CustomSearchTool()]\n",
    "# acs_tools = [acs_search_semantic]\n",
    "agent = initialize_agent(\n",
    "    acs_tools, llm, agent=AgentType.ZERO_SHOT_REACT_DESCRIPTION, verbose=True\n",
    ")"
   ]
  },
  {
   "cell_type": "code",
   "execution_count": 115,
   "metadata": {},
   "outputs": [
    {
     "name": "stdout",
     "output_type": "stream",
     "text": [
      "\n",
      "\n",
      "\u001b[1m> Entering new AgentExecutor chain...\u001b[0m\n",
      "\u001b[32;1m\u001b[1;3mI should use custom_search to find information about the Eastern Coral Snake.\n",
      "Action: custom_search\n",
      "Action Input: \"Eastern Coral Snake facts\"\u001b[0m\n",
      "Observation: \u001b[36;1m\u001b[1;3m[Document(page_content='Eastern Coral Snake. The Copperhead is the most common \\nand widespread venomous snake in North Carolina, occur-\\nring in both rural and urban environments. Four of the six \\nare protected species in North Carolina, and as such, should \\nnot be handled or disturbed: the Timber and Pigmy Rattle-\\nsnakes are both Species of Special Concern, while the \\nEastern Diamondback Rattlesnake and Eastern Coral Snake \\nare both Endangered.  \\nWhy do snakes shed their skins?\\nAs a snake grows, its body increas es in size, b ut its skin \\ndoes not grow with it. Therefore, as they grow, snakes \\nmust replace their sma ller skins with lar ger ones. The act \\nof shedding old s kin also removes  any parasites t hat may \\nhave been presen t on their skin. Snak es shed their  skins \\nin a manner sim ilar to that of pul ling off a sock inside out. \\nA snake’ s shed skin can be useful in identifying the species  \\nof snake.\\nDo snakes pose a threat to humans or pets?', metadata={'source': '../data/snakes.pdf', 'page': 0, 'captions': {'text': 'Eastern Coral Snake. The Copperhead is the most common  and widespread venomous snake in North Carolina, occur- ring in both rural and urban environments.', 'highlights': 'Eastern Coral Snake. The Copperhead is the most common  and widespread venomous snake in North Carolina, occur-<em> ring</em> in both rural and urban environments.'}, 'answers': ''}), Document(page_content='Eastern Coral Snake. The Copperhead is the most common \\nand widespread venomous snake in North Carolina, occur-\\nring in both rural and urban environments. Four of the six \\nare protected species in North Carolina, and as such, should \\nnot be handled or disturbed: the Timber and Pigmy Rattle-\\nsnakes are both Species of Special Concern, while the \\nEastern Diamondback Rattlesnake and Eastern Coral Snake \\nare both Endangered.  \\nWhy do snakes shed their skins?\\nAs a snake grows, its body increas es in size, b ut its skin \\ndoes not grow with it. Therefore, as they grow, snakes \\nmust replace their sma ller skins with lar ger ones. The act \\nof shedding old s kin also removes  any parasites t hat may \\nhave been presen t on their skin. Snak es shed their  skins \\nin a manner sim ilar to that of pul ling off a sock inside out. \\nA snake’ s shed skin can be useful in identifying the species  \\nof snake.\\nDo snakes pose a threat to humans or pets?', metadata={'source': 'temp.pdf', 'page': 0, 'captions': {'text': 'Eastern Coral Snake. The Copperhead is the most common  and widespread venomous snake in North Carolina, occur- ring in both rural and urban environments.', 'highlights': 'Eastern Coral Snake. The Copperhead is the most common  and widespread venomous snake in North Carolina, occur-<em> ring</em> in both rural and urban environments.'}, 'answers': ''}), Document(page_content='Eastern Coral Snake. The Copperhead is the most common \\nand widespread venomous snake in North Carolina, occur-\\nring in both rural and urban environments. Four of the six \\nare protected species in North Carolina, and as such, should \\nnot be handled or disturbed: the Timber and Pigmy Rattle-\\nsnakes are both Species of Special Concern, while the \\nEastern Diamondback Rattlesnake and Eastern Coral Snake \\nare both Endangered.  \\nWhy do snakes shed their skins?\\nAs a snake grows, its body increas es in size, b ut its skin \\ndoes not grow with it. Therefore, as they grow, snakes \\nmust replace their sma ller skins with lar ger ones. The act \\nof shedding old s kin also removes  any parasites t hat may \\nhave been presen t on their skin. Snak es shed their  skins \\nin a manner sim ilar to that of pul ling off a sock inside out. \\nA snake’ s shed skin can be useful in identifying the species  \\nof snake.\\nDo snakes pose a threat to humans or pets?', metadata={'source': '../data/snakes.pdf', 'page': 0, 'captions': {'text': 'Eastern Coral Snake. The Copperhead is the most common  and widespread venomous snake in North Carolina, occur- ring in both rural and urban environments.', 'highlights': 'Eastern Coral Snake. The Copperhead is the most common  and widespread venomous snake in North Carolina, occur-<em> ring</em> in both rural and urban environments.'}, 'answers': ''}), Document(page_content='are protected species in North Carolina, and as such, should \\nnot be handled or disturbed: the Timber and Pigmy Rattle-\\nsnakes are both Species of Special Concern, while the \\nEastern Diamondback Rattlesnake and Eastern Coral Snake \\nare both Endangered.  \\nWhy do snakes shed their skins?\\nAs a snake grows, its body increas es in size, b ut its skin', metadata={'source': '../data/snakes.pdf', 'page': 0, 'captions': {'text': 'are protected species in North Carolina, and as such, should \\nnot be handled or disturbed: the Timber and Pigmy Rattle-\\nsnakes are both Species of Special Concern, while the \\nEastern Diamondback Rattlesnake and Eastern Coral Snake \\nare both Endangered.  \\nWhy do snakes shed their skins?\\nAs a snake grows, its body increas es in size, b ut its skin.', 'highlights': 'are protected species in North Carolina, and as such, should \\nnot be handled or disturbed: the Timber and Pigmy <em>Rattle-\\nsnakes</em> are both Species of Special Concern, while the<em> \\nEastern</em> Diamondback Rattlesnake and<em> Eastern Coral Snake</em> \\nare both Endangered.  \\nWhy do snakes shed their skins?\\nAs a snake grows, its body increas es in size, b ut its skin.'}, 'answers': ''})]\u001b[0m\n",
      "Thought:\u001b[32;1m\u001b[1;3mI need to filter the results to only get information about the Eastern Coral Snake.\n",
      "Action: custom_search\n",
      "Action Input: \"Eastern Coral Snake facts -shedding skin -North Carolina -protected species -endangered\"\u001b[0m\n",
      "Observation: \u001b[36;1m\u001b[1;3m[Document(page_content='Eastern Coral Snake. The Copperhead is the most common \\nand widespread venomous snake in North Carolina, occur-\\nring in both rural and urban environments. Four of the six \\nare protected species in North Carolina, and as such, should \\nnot be handled or disturbed: the Timber and Pigmy Rattle-\\nsnakes are both Species of Special Concern, while the \\nEastern Diamondback Rattlesnake and Eastern Coral Snake \\nare both Endangered.  \\nWhy do snakes shed their skins?\\nAs a snake grows, its body increas es in size, b ut its skin \\ndoes not grow with it. Therefore, as they grow, snakes \\nmust replace their sma ller skins with lar ger ones. The act \\nof shedding old s kin also removes  any parasites t hat may \\nhave been presen t on their skin. Snak es shed their  skins \\nin a manner sim ilar to that of pul ling off a sock inside out. \\nA snake’ s shed skin can be useful in identifying the species  \\nof snake.\\nDo snakes pose a threat to humans or pets?', metadata={'source': '../data/snakes.pdf', 'page': 0, 'captions': {'text': 'Eastern Coral Snake. The Copperhead is the most common  and widespread venomous snake in North Carolina, occur- ring in both rural and urban environments.', 'highlights': 'Eastern Coral Snake. The Copperhead is the most common  and widespread venomous snake in North Carolina, occur-<em> ring</em> in both rural and urban environments.'}, 'answers': ''}), Document(page_content='Eastern Coral Snake. The Copperhead is the most common \\nand widespread venomous snake in North Carolina, occur-\\nring in both rural and urban environments. Four of the six \\nare protected species in North Carolina, and as such, should \\nnot be handled or disturbed: the Timber and Pigmy Rattle-\\nsnakes are both Species of Special Concern, while the \\nEastern Diamondback Rattlesnake and Eastern Coral Snake \\nare both Endangered.  \\nWhy do snakes shed their skins?\\nAs a snake grows, its body increas es in size, b ut its skin \\ndoes not grow with it. Therefore, as they grow, snakes \\nmust replace their sma ller skins with lar ger ones. The act \\nof shedding old s kin also removes  any parasites t hat may \\nhave been presen t on their skin. Snak es shed their  skins \\nin a manner sim ilar to that of pul ling off a sock inside out. \\nA snake’ s shed skin can be useful in identifying the species  \\nof snake.\\nDo snakes pose a threat to humans or pets?', metadata={'source': '../data/snakes.pdf', 'page': 0, 'captions': {'text': 'Eastern Coral Snake. The Copperhead is the most common  and widespread venomous snake in North Carolina, occur- ring in both rural and urban environments.', 'highlights': 'Eastern Coral Snake. The Copperhead is the most common  and widespread venomous snake in North Carolina, occur-<em> ring</em> in both rural and urban environments.'}, 'answers': ''}), Document(page_content='Eastern Coral Snake. The Copperhead is the most common \\nand widespread venomous snake in North Carolina, occur-\\nring in both rural and urban environments. Four of the six \\nare protected species in North Carolina, and as such, should \\nnot be handled or disturbed: the Timber and Pigmy Rattle-\\nsnakes are both Species of Special Concern, while the \\nEastern Diamondback Rattlesnake and Eastern Coral Snake \\nare both Endangered.  \\nWhy do snakes shed their skins?\\nAs a snake grows, its body increas es in size, b ut its skin \\ndoes not grow with it. Therefore, as they grow, snakes \\nmust replace their sma ller skins with lar ger ones. The act \\nof shedding old s kin also removes  any parasites t hat may \\nhave been presen t on their skin. Snak es shed their  skins \\nin a manner sim ilar to that of pul ling off a sock inside out. \\nA snake’ s shed skin can be useful in identifying the species  \\nof snake.\\nDo snakes pose a threat to humans or pets?', metadata={'source': 'temp.pdf', 'page': 0, 'captions': {'text': 'Eastern Coral Snake. The Copperhead is the most common  and widespread venomous snake in North Carolina, occur- ring in both rural and urban environments.', 'highlights': 'Eastern Coral Snake. The Copperhead is the most common  and widespread venomous snake in North Carolina, occur-<em> ring</em> in both rural and urban environments.'}, 'answers': ''}), Document(page_content='are protected species in North Carolina, and as such, should \\nnot be handled or disturbed: the Timber and Pigmy Rattle-\\nsnakes are both Species of Special Concern, while the \\nEastern Diamondback Rattlesnake and Eastern Coral Snake \\nare both Endangered.  \\nWhy do snakes shed their skins?\\nAs a snake grows, its body increas es in size, b ut its skin', metadata={'source': '../data/snakes.pdf', 'page': 0, 'captions': {'text': 'are protected species in North Carolina, and as such, should \\nnot be handled or disturbed: the Timber and Pigmy Rattle-\\nsnakes are both Species of Special Concern, while the \\nEastern Diamondback Rattlesnake and Eastern Coral Snake \\nare both Endangered.  \\nWhy do snakes shed their skins?\\nAs a snake grows, its body increas es in size, b ut its skin.', 'highlights': 'are<em> protected species</em> in<em> North Carolina,</em> and as such, should \\nnot be handled or disturbed: the Timber and Pigmy <em>Rattle-\\nsnakes</em> are both<em> Species</em> of Special Concern, while the<em> \\nEastern</em> Diamondback Rattlesnake and<em> Eastern Coral Snake</em> \\nare both<em> Endangered.</em>  \\nWhy do<em> snakes shed</em> their skins?\\nAs a<em> snake</em> grows, its body increas es in size, b ut its skin.'}, 'answers': ''})]\u001b[0m\n",
      "Thought:\u001b[32;1m\u001b[1;3mI can now extract the relevant information about the Eastern Coral Snake from the filtered results.\n",
      "Action: Extract information\n",
      "Action Input: \"Eastern Coral Snake\"\u001b[0m\n",
      "Observation: Extract information is not a valid tool, try one of [custom_search].\n",
      "Thought:\u001b[32;1m\u001b[1;3mI can read through the filtered results to gather information about the Eastern Coral Snake.\n",
      "Final Answer: The Eastern Coral Snake is a venomous snake that is endangered and a protected species in North Carolina. It is found in both rural and urban environments.\u001b[0m\n",
      "\n",
      "\u001b[1m> Finished chain.\u001b[0m\n"
     ]
    },
    {
     "data": {
      "text/plain": [
       "'The Eastern Coral Snake is a venomous snake that is endangered and a protected species in North Carolina. It is found in both rural and urban environments.'"
      ]
     },
     "execution_count": 115,
     "metadata": {},
     "output_type": "execute_result"
    }
   ],
   "source": [
    "agent.run(\"Give me facts about Eastern Coral Snake? \")"
   ]
  }
 ],
 "metadata": {
  "kernelspec": {
   "display_name": "Python 3",
   "language": "python",
   "name": "python3"
  },
  "language_info": {
   "codemirror_mode": {
    "name": "ipython",
    "version": 3
   },
   "file_extension": ".py",
   "mimetype": "text/x-python",
   "name": "python",
   "nbconvert_exporter": "python",
   "pygments_lexer": "ipython3",
   "version": "3.10.12"
  },
  "orig_nbformat": 4
 },
 "nbformat": 4,
 "nbformat_minor": 2
}
