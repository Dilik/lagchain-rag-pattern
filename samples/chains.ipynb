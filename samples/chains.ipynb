{
 "cells": [
  {
   "cell_type": "markdown",
   "metadata": {},
   "source": [
    "### Chain example with custom tools"
   ]
  },
  {
   "cell_type": "code",
   "execution_count": 53,
   "metadata": {},
   "outputs": [],
   "source": [
    "#setup\n",
    "import openai\n",
    "import os\n",
    "from pprint import pprint\n",
    "from langchain.embeddings.openai import OpenAIEmbeddings\n",
    "from langchain.vectorstores.azuresearch import AzureSearch\n",
    "from langchain.chat_models import AzureChatOpenAI\n",
    "from typing import Optional, Type\n",
    "from langchain.tools import BaseTool\n",
    "from langchain.agents import AgentType, initialize_agent\n",
    "from langchain.memory import ConversationBufferMemory\n",
    "from langchain.prompts import PromptTemplate\n",
    "from langchain.chains import SimpleSequentialChain\n",
    "from langchain.chains import LLMChain\n",
    "\n",
    "from langchain.callbacks.manager import (\n",
    "    AsyncCallbackManagerForToolRun,\n",
    "    CallbackManagerForToolRun,\n",
    ")\n",
    "\n",
    "# read local .env file\n",
    "from dotenv import load_dotenv, find_dotenv\n",
    "_ = load_dotenv(find_dotenv()) \n",
    "\n",
    "# setup azure openai api\n",
    "openai.api_type = \"azure\"\n",
    "openai.api_base = os.getenv(\"AZURE_OAI_ENDPOINT\")\n",
    "# openai.api_version = \"2023-03-15-preview\"\n",
    "openai.api_version = \"2023-05-15\"\n",
    "openai.api_key  = os.getenv('AZURE_OAI_KEY')\n",
    "\n",
    "llm_name = \"gpt-3.5-turbo\"\n",
    "deployment_name_gpt = os.getenv(\"AZURE_OAI_MODEL_GPT_3\")\n",
    "deployment_name_ada = os.getenv(\"AZURE_OAI_MODEL_ADA\")\n",
    "\n",
    "vector_store_address: str = os.getenv(\"AZURE_SEARCH_ENDPOINT\")\n",
    "vector_store_password: str = os.getenv(\"AZURE_SEARCH_ADMIN_KEY\")\n",
    "\n",
    "os.environ[\"OPENAI_API_TYPE\"] = openai.api_type\n",
    "os.environ[\"OPENAI_API_BASE\"] = openai.api_base\n",
    "os.environ[\"OPENAI_API_KEY\"] = openai.api_key\n",
    "os.environ[\"OPENAI_API_VERSION\"] = openai.api_version"
   ]
  },
  {
   "cell_type": "code",
   "execution_count": 54,
   "metadata": {},
   "outputs": [],
   "source": [
    "# create llm instance\n",
    "llm = AzureChatOpenAI(deployment_name=deployment_name_gpt)"
   ]
  },
  {
   "cell_type": "code",
   "execution_count": 55,
   "metadata": {},
   "outputs": [],
   "source": [
    "#define embedding and creating the instnace of azure cognitive search\n",
    "embeddings: OpenAIEmbeddings = OpenAIEmbeddings(deployment=deployment_name_ada, chunk_size=1)\n",
    "index_name: str = \"facts-about-snakes\"\n",
    "azure_search_store: AzureSearch = AzureSearch(\n",
    "    azure_search_endpoint=vector_store_address,\n",
    "    azure_search_key=vector_store_password,\n",
    "    index_name=index_name,\n",
    "    semantic_configuration_name=\"default\",\n",
    "    embedding_function=embeddings.embed_query,\n",
    ")"
   ]
  },
  {
   "cell_type": "code",
   "execution_count": 56,
   "metadata": {},
   "outputs": [],
   "source": [
    "class CustomSearchTool(BaseTool):\n",
    "    name = \"custom_search\"\n",
    "    description = \"useful for when you need to get exisitng data on snakes from azure cognitive seach\"\n",
    "\n",
    "    def _run(\n",
    "        self, query: str, run_manager: Optional[CallbackManagerForToolRun] = None\n",
    "    ) -> str:\n",
    "        \"\"\"Use the tool.\"\"\"\n",
    "        return azure_search_store.similarity_search(\n",
    "            query=query, \n",
    "            k=4,\n",
    "            search_type=\"semantic_hybrid\"\n",
    "        )\n",
    "\n",
    "    async def _arun(\n",
    "        self, query: str, run_manager: Optional[AsyncCallbackManagerForToolRun] = None\n",
    "    ) -> str:\n",
    "        \"\"\"Use the tool asynchronously.\"\"\"\n",
    "        raise NotImplementedError(\"custom_search does not support async\")"
   ]
  },
  {
   "cell_type": "code",
   "execution_count": 57,
   "metadata": {},
   "outputs": [],
   "source": [
    "acs_tools = [CustomSearchTool()]\n",
    "agent = initialize_agent(\n",
    "    acs_tools, llm, agent=AgentType.ZERO_SHOT_REACT_DESCRIPTION, verbose=True\n",
    ")"
   ]
  },
  {
   "cell_type": "code",
   "execution_count": 58,
   "metadata": {},
   "outputs": [],
   "source": [
    "# chain 1\n",
    "chain_one = agent"
   ]
  },
  {
   "cell_type": "code",
   "execution_count": 95,
   "metadata": {},
   "outputs": [],
   "source": [
    "template = \"\"\"You are a text summrizer. Your job is to summarize the inputed data and provide the content in html format\\n\n",
    "Provide a good tite for the html document and the summary content in the div\\n \n",
    "\n",
    "Input:\n",
    "{input}\n",
    "\n",
    "\"\"\"\n",
    "prompt_template = PromptTemplate(input_variables=[\"input\"], template=template)"
   ]
  },
  {
   "cell_type": "code",
   "execution_count": 60,
   "metadata": {},
   "outputs": [],
   "source": [
    "chain_two = LLMChain(llm=llm, prompt=prompt_template) "
   ]
  },
  {
   "cell_type": "code",
   "execution_count": 61,
   "metadata": {},
   "outputs": [],
   "source": [
    "overall_chain = SimpleSequentialChain(\n",
    "                  chains=[chain_one, chain_two],\n",
    "                  verbose=True)"
   ]
  },
  {
   "cell_type": "code",
   "execution_count": 96,
   "metadata": {},
   "outputs": [
    {
     "name": "stderr",
     "output_type": "stream",
     "text": [
      "/tmp/ipykernel_64210/3372027314.py:2: DeprecationWarning: Importing display from IPython.core.display is deprecated since IPython 7.14, please import from IPython display\n",
      "  from IPython.core.display import display, HTML\n"
     ]
    }
   ],
   "source": [
    "# for viewing html output\n",
    "from IPython.core.display import display, HTML\n"
   ]
  },
  {
   "cell_type": "code",
   "execution_count": 97,
   "metadata": {},
   "outputs": [
    {
     "name": "stdout",
     "output_type": "stream",
     "text": [
      "\n",
      "\n",
      "\u001b[1m> Entering new SimpleSequentialChain chain...\u001b[0m\n",
      "\n",
      "\n",
      "\u001b[1m> Entering new AgentExecutor chain...\u001b[0m\n",
      "\u001b[32;1m\u001b[1;3mI need to find existing data on venomous snakes in North Carolina.\n",
      "Action: custom_search\n",
      "Action Input: \"venomous snakes North Carolina\"\u001b[0m\n",
      "Observation: \u001b[36;1m\u001b[1;3m[Document(page_content='Few creatures are as widely misunderstood as snakes.  \\nFueled by myths and old-wives tales, many people \\nfear snakes and worry for the safety of people and pets when snakes are present. In reality, snakes are \\nshy creatures that pose little to no threat to us when  \\nleft alone. Snakes are an important part of our environment, keeping populations of pests such as rodents, slugs, and insects in check. Plus, snakes are a food resource to other animals such as foxes, raccoons, bears, eagles, hawks, and owls.    \\ncoexist  with\\nSnakes\\nSnake Quick Facts: \\nHow many snakes in North Carolina are \\nVenomous?\\nOut of the thirty-eight different species of snakes in North \\nCarolina, only six are venomous. Venomous snakes include \\nthe Copperhead, Cottonmouth, Timber Rattlesnake, Eastern \\nDiamondback Rattlesnake, Pigmy Rattlesnake, and the \\nEastern Coral Snake. The Copperhead is the most common \\nand widespread venomous snake in North Carolina, occur-', metadata={'source': 'temp.pdf', 'page': 0, 'captions': {'text': 'Out of the thirty-eight different species of snakes in North  Carolina, only six are venomous. Venomous snakes include  the Copperhead, Cottonmouth, Timber Rattlesnake, Eastern  Diamondback Rattlesnake, Pigmy Rattlesnake, and the  Eastern Coral Snake. The Copperhead is the most common  and widespread venomous snake in North Carolina, occur-.\\x00', 'highlights': 'Out of the thirty-eight different species of snakes in North  Carolina, only six are venomous. Venomous snakes include  the<em> Copperhead, Cottonmouth, Timber Rattlesnake, Eastern  Diamondback Rattlesnake, Pigmy Rattlesnake,</em> and the  Eastern Coral Snake. The Copperhead is the most common  and widespread venomous snake in North Carolina, occur-.\\x00'}, 'answers': ''}), Document(page_content='Few creatures are as widely misunderstood as snakes.  \\nFueled by myths and old-wives tales, many people \\nfear snakes and worry for the safety of people and pets when snakes are present. In reality, snakes are \\nshy creatures that pose little to no threat to us when  \\nleft alone. Snakes are an important part of our environment, keeping populations of pests such as rodents, slugs, and insects in check. Plus, snakes are a food resource to other animals such as foxes, raccoons, bears, eagles, hawks, and owls.    \\ncoexist  with\\nSnakes\\nSnake Quick Facts: \\nHow many snakes in North Carolina are \\nVenomous?\\nOut of the thirty-eight different species of snakes in North \\nCarolina, only six are venomous. Venomous snakes include \\nthe Copperhead, Cottonmouth, Timber Rattlesnake, Eastern \\nDiamondback Rattlesnake, Pigmy Rattlesnake, and the \\nEastern Coral Snake. The Copperhead is the most common \\nand widespread venomous snake in North Carolina, occur-', metadata={'source': '../data/snakes.pdf', 'page': 0, 'captions': {'text': 'Out of the thirty-eight different species of snakes in North  Carolina, only six are venomous. Venomous snakes include  the Copperhead, Cottonmouth, Timber Rattlesnake, Eastern  Diamondback Rattlesnake, Pigmy Rattlesnake, and the  Eastern Coral Snake. The Copperhead is the most common  and widespread venomous snake in North Carolina, occur-.\\x00', 'highlights': 'Out of the thirty-eight different species of snakes in North  Carolina, only six are venomous. Venomous snakes include  the<em> Copperhead, Cottonmouth, Timber Rattlesnake, Eastern  Diamondback Rattlesnake, Pigmy Rattlesnake,</em> and the  Eastern Coral Snake. The Copperhead is the most common  and widespread venomous snake in North Carolina, occur-.\\x00'}, 'answers': ''}), Document(page_content='Few creatures are as widely misunderstood as snakes.  \\nFueled by myths and old-wives tales, many people \\nfear snakes and worry for the safety of people and pets when snakes are present. In reality, snakes are \\nshy creatures that pose little to no threat to us when  \\nleft alone. Snakes are an important part of our environment, keeping populations of pests such as rodents, slugs, and insects in check. Plus, snakes are a food resource to other animals such as foxes, raccoons, bears, eagles, hawks, and owls.    \\ncoexist  with\\nSnakes\\nSnake Quick Facts: \\nHow many snakes in North Carolina are \\nVenomous?\\nOut of the thirty-eight different species of snakes in North \\nCarolina, only six are venomous. Venomous snakes include \\nthe Copperhead, Cottonmouth, Timber Rattlesnake, Eastern \\nDiamondback Rattlesnake, Pigmy Rattlesnake, and the \\nEastern Coral Snake. The Copperhead is the most common \\nand widespread venomous snake in North Carolina, occur-', metadata={'source': '../data/snakes.pdf', 'page': 0, 'captions': {'text': 'Out of the thirty-eight different species of snakes in North  Carolina, only six are venomous. Venomous snakes include  the Copperhead, Cottonmouth, Timber Rattlesnake, Eastern  Diamondback Rattlesnake, Pigmy Rattlesnake, and the  Eastern Coral Snake. The Copperhead is the most common  and widespread venomous snake in North Carolina, occur-.\\x00', 'highlights': 'Out of the thirty-eight different species of snakes in North  Carolina, only six are venomous. Venomous snakes include  the<em> Copperhead, Cottonmouth, Timber Rattlesnake, Eastern  Diamondback Rattlesnake, Pigmy Rattlesnake,</em> and the  Eastern Coral Snake. The Copperhead is the most common  and widespread venomous snake in North Carolina, occur-.\\x00'}, 'answers': ''}), Document(page_content='Carolina, only six are venomous. Venomous snakes include \\nthe Copperhead, Cottonmouth, Timber Rattlesnake, Eastern \\nDiamondback Rattlesnake, Pigmy Rattlesnake, and the \\nEastern Coral Snake. The Copperhead is the most common \\nand widespread venomous snake in North Carolina, occur-\\nring in both rural and urban environments. Four of the six', metadata={'source': '../data/snakes.pdf', 'page': 0, 'captions': {'text': 'Carolina, only six are venomous. Venomous snakes include \\nthe Copperhead, Cottonmouth, Timber Rattlesnake, Eastern \\nDiamondback Rattlesnake, Pigmy Rattlesnake, and the \\nEastern Coral Snake. The Copperhead is the most common \\nand widespread venomous snake in North Carolina, occur-\\nring in both rural and urban environments. Four of the six.', 'highlights': 'Carolina, only six are venomous. Venomous snakes include \\nthe<em> Copperhead, Cottonmouth,</em><em> Timber Rattlesnake,</em> <em>Eastern \\nDiamondback Rattlesnake, Pigmy Rattlesnake,</em> and the \\nEastern Coral Snake. The Copperhead is the most common \\nand widespread venomous snake in North Carolina, occur-\\nring in both rural and urban environments. Four of the six.'}, 'answers': ''})]\u001b[0m\n",
      "Thought:\u001b[32;1m\u001b[1;3mBased on the observation, I can see that the Copperhead, Cottonmouth, Timber Rattlesnake, Eastern Diamondback Rattlesnake, Pigmy Rattlesnake, and the Eastern Coral Snake are the venomous snakes in North Carolina.\n",
      "Thought: \n",
      "My final answer is:\n",
      "Final Answer: The venomous snakes in North Carolina are the Copperhead, Cottonmouth, Timber Rattlesnake, Eastern Diamondback Rattlesnake, Pigmy Rattlesnake, and the Eastern Coral Snake.\u001b[0m\n",
      "\n",
      "\u001b[1m> Finished chain.\u001b[0m\n",
      "\u001b[36;1m\u001b[1;3mThe venomous snakes in North Carolina are the Copperhead, Cottonmouth, Timber Rattlesnake, Eastern Diamondback Rattlesnake, Pigmy Rattlesnake, and the Eastern Coral Snake.\u001b[0m\n",
      "\u001b[33;1m\u001b[1;3m<h1>Venomous Snakes in North Carolina</h1>\n",
      "<p>The venomous snakes in North Carolina are the Copperhead, Cottonmouth, Timber Rattlesnake, Eastern Diamondback Rattlesnake, Pigmy Rattlesnake, and the Eastern Coral Snake.</p>\u001b[0m\n",
      "\n",
      "\u001b[1m> Finished chain.\u001b[0m\n"
     ]
    },
    {
     "data": {
      "text/html": [
       "<h1>Venomous Snakes in North Carolina</h1>\n",
       "<p>The venomous snakes in North Carolina are the Copperhead, Cottonmouth, Timber Rattlesnake, Eastern Diamondback Rattlesnake, Pigmy Rattlesnake, and the Eastern Coral Snake.</p>"
      ],
      "text/plain": [
       "<IPython.core.display.HTML object>"
      ]
     },
     "metadata": {},
     "output_type": "display_data"
    }
   ],
   "source": [
    "question = \"What are the venomous snakes in North Carolina?\"\n",
    "\n",
    "result = overall_chain.run(question)\n",
    "display(HTML(result))"
   ]
  },
  {
   "cell_type": "code",
   "execution_count": 98,
   "metadata": {},
   "outputs": [
    {
     "name": "stdout",
     "output_type": "stream",
     "text": [
      "\n",
      "\n",
      "\u001b[1m> Entering new SimpleSequentialChain chain...\u001b[0m\n",
      "\n",
      "\n",
      "\u001b[1m> Entering new AgentExecutor chain...\u001b[0m\n",
      "\u001b[32;1m\u001b[1;3mSnakes shedding their skins is a common behavior among reptiles, so I should start by researching this behavior.\n",
      "Action: custom_search\n",
      "Action Input: \"reasons why snakes shed their skins\"\u001b[0m\n",
      "Observation: \u001b[36;1m\u001b[1;3m[Document(page_content='Eastern Coral Snake. The Copperhead is the most common \\nand widespread venomous snake in North Carolina, occur-\\nring in both rural and urban environments. Four of the six \\nare protected species in North Carolina, and as such, should \\nnot be handled or disturbed: the Timber and Pigmy Rattle-\\nsnakes are both Species of Special Concern, while the \\nEastern Diamondback Rattlesnake and Eastern Coral Snake \\nare both Endangered.  \\nWhy do snakes shed their skins?\\nAs a snake grows, its body increas es in size, b ut its skin \\ndoes not grow with it. Therefore, as they grow, snakes \\nmust replace their sma ller skins with lar ger ones. The act \\nof shedding old s kin also removes  any parasites t hat may \\nhave been presen t on their skin. Snak es shed their  skins \\nin a manner sim ilar to that of pul ling off a sock inside out. \\nA snake’ s shed skin can be useful in identifying the species  \\nof snake.\\nDo snakes pose a threat to humans or pets?', metadata={'source': '../data/snakes.pdf', 'page': 0, 'captions': {'text': 'Why do snakes shed their skins? As a snake grows, its body increas es in size, b ut its skin  does not grow with it. Therefore, as they grow, snakes  must replace their sma ller skins with lar ger ones. The act  of shedding old s kin also removes  any parasites t hat may  have been presen t on their skin.', 'highlights': 'Why do<em> snakes shed their skins?</em> As a<em> snake</em> grows, its body increas es in size, b ut<em> its skin</em>  does not grow with it. Therefore, as they grow,<em> snakes</em>  must replace<em> their</em> sma ller<em> skins</em> with lar ger ones. The act  of<em> shedding</em> old s kin also removes  any parasites t hat may  have been presen t on<em> their skin.</em>'}, 'answers': ''}), Document(page_content='Eastern Coral Snake. The Copperhead is the most common \\nand widespread venomous snake in North Carolina, occur-\\nring in both rural and urban environments. Four of the six \\nare protected species in North Carolina, and as such, should \\nnot be handled or disturbed: the Timber and Pigmy Rattle-\\nsnakes are both Species of Special Concern, while the \\nEastern Diamondback Rattlesnake and Eastern Coral Snake \\nare both Endangered.  \\nWhy do snakes shed their skins?\\nAs a snake grows, its body increas es in size, b ut its skin \\ndoes not grow with it. Therefore, as they grow, snakes \\nmust replace their sma ller skins with lar ger ones. The act \\nof shedding old s kin also removes  any parasites t hat may \\nhave been presen t on their skin. Snak es shed their  skins \\nin a manner sim ilar to that of pul ling off a sock inside out. \\nA snake’ s shed skin can be useful in identifying the species  \\nof snake.\\nDo snakes pose a threat to humans or pets?', metadata={'source': '../data/snakes.pdf', 'page': 0, 'captions': {'text': 'Why do snakes shed their skins? As a snake grows, its body increas es in size, b ut its skin  does not grow with it. Therefore, as they grow, snakes  must replace their sma ller skins with lar ger ones. The act  of shedding old s kin also removes  any parasites t hat may  have been presen t on their skin.', 'highlights': 'Why do<em> snakes shed their skins?</em> As a<em> snake</em> grows, its body increas es in size, b ut<em> its skin</em>  does not grow with it. Therefore, as they grow,<em> snakes</em>  must replace<em> their</em> sma ller<em> skins</em> with lar ger ones. The act  of<em> shedding</em> old s kin also removes  any parasites t hat may  have been presen t on<em> their skin.</em>'}, 'answers': ''}), Document(page_content='Eastern Coral Snake. The Copperhead is the most common \\nand widespread venomous snake in North Carolina, occur-\\nring in both rural and urban environments. Four of the six \\nare protected species in North Carolina, and as such, should \\nnot be handled or disturbed: the Timber and Pigmy Rattle-\\nsnakes are both Species of Special Concern, while the \\nEastern Diamondback Rattlesnake and Eastern Coral Snake \\nare both Endangered.  \\nWhy do snakes shed their skins?\\nAs a snake grows, its body increas es in size, b ut its skin \\ndoes not grow with it. Therefore, as they grow, snakes \\nmust replace their sma ller skins with lar ger ones. The act \\nof shedding old s kin also removes  any parasites t hat may \\nhave been presen t on their skin. Snak es shed their  skins \\nin a manner sim ilar to that of pul ling off a sock inside out. \\nA snake’ s shed skin can be useful in identifying the species  \\nof snake.\\nDo snakes pose a threat to humans or pets?', metadata={'source': 'temp.pdf', 'page': 0, 'captions': {'text': 'Why do snakes shed their skins? As a snake grows, its body increas es in size, b ut its skin  does not grow with it. Therefore, as they grow, snakes  must replace their sma ller skins with lar ger ones. The act  of shedding old s kin also removes  any parasites t hat may  have been presen t on their skin.', 'highlights': 'Why do<em> snakes shed their skins?</em> As a<em> snake</em> grows, its body increas es in size, b ut<em> its skin</em>  does not grow with it. Therefore, as they grow,<em> snakes</em>  must replace<em> their</em> sma ller<em> skins</em> with lar ger ones. The act  of<em> shedding</em> old s kin also removes  any parasites t hat may  have been presen t on<em> their skin.</em>'}, 'answers': ''}), Document(page_content='are protected species in North Carolina, and as such, should \\nnot be handled or disturbed: the Timber and Pigmy Rattle-\\nsnakes are both Species of Special Concern, while the \\nEastern Diamondback Rattlesnake and Eastern Coral Snake \\nare both Endangered.  \\nWhy do snakes shed their skins?\\nAs a snake grows, its body increas es in size, b ut its skin', metadata={'source': '../data/snakes.pdf', 'page': 0, 'captions': {'text': 'are protected species in North Carolina, and as such, should \\nnot be handled or disturbed: the Timber and Pigmy Rattle-\\nsnakes are both Species of Special Concern, while the \\nEastern Diamondback Rattlesnake and Eastern Coral Snake \\nare both Endangered.  \\nWhy do snakes shed their skins?\\nAs a snake grows, its body increas es in size, b ut its skin.', 'highlights': 'are protected species in North Carolina, and as such, should \\nnot be handled or disturbed: the Timber and Pigmy <em>Rattle-\\nsnakes</em> are both Species of Special Concern, while the \\nEastern Diamondback Rattlesnake and Eastern Coral<em> Snake</em> \\nare both Endangered.  \\nWhy do<em> snakes shed their skins?\\nAs</em> a<em> snake</em> grows, its body increas es in size, b ut its skin.'}, 'answers': ''})]\u001b[0m\n",
      "Thought:\u001b[32;1m\u001b[1;3mI received several search results, but the first document provides a clear answer to the question.\n",
      "Thought: I now know the final answer.\n",
      "Final Answer: Snakes shed their skins because as they grow, their bodies increase in size, but their skin does not grow with them. Therefore, they must replace their smaller skins with larger ones. Additionally, shedding old skin removes any parasites that may have been present on their skin.\u001b[0m\n",
      "\n",
      "\u001b[1m> Finished chain.\u001b[0m\n",
      "\u001b[36;1m\u001b[1;3mSnakes shed their skins because as they grow, their bodies increase in size, but their skin does not grow with them. Therefore, they must replace their smaller skins with larger ones. Additionally, shedding old skin removes any parasites that may have been present on their skin.\u001b[0m\n",
      "\u001b[33;1m\u001b[1;3m<h1>Why Do Snakes Shed Their Skin?</h1>\n",
      "<p>Snakes shed their skins because as they grow, their bodies increase in size, but their skin does not grow with them. Therefore, they must replace their smaller skins with larger ones. Additionally, shedding old skin removes any parasites that may have been present on their skin.</p>\u001b[0m\n",
      "\n",
      "\u001b[1m> Finished chain.\u001b[0m\n"
     ]
    },
    {
     "data": {
      "text/html": [
       "<h1>Why Do Snakes Shed Their Skin?</h1>\n",
       "<p>Snakes shed their skins because as they grow, their bodies increase in size, but their skin does not grow with them. Therefore, they must replace their smaller skins with larger ones. Additionally, shedding old skin removes any parasites that may have been present on their skin.</p>"
      ],
      "text/plain": [
       "<IPython.core.display.HTML object>"
      ]
     },
     "metadata": {},
     "output_type": "display_data"
    }
   ],
   "source": [
    "question = \"Why do snakes shed their skins?\"\n",
    "\n",
    "result = overall_chain.run(question)\n",
    "display(HTML(result))"
   ]
  },
  {
   "cell_type": "code",
   "execution_count": 99,
   "metadata": {},
   "outputs": [
    {
     "name": "stdout",
     "output_type": "stream",
     "text": [
      "\n",
      "\n",
      "\u001b[1m> Entering new SimpleSequentialChain chain...\u001b[0m\n",
      "\n",
      "\n",
      "\u001b[1m> Entering new AgentExecutor chain...\u001b[0m\n",
      "\u001b[32;1m\u001b[1;3mI should search for a reputable source on snake safety tips\n",
      "Action: custom_search\n",
      "Action Input: \"snake safety tips\" in Azure Cognitive Search\u001b[0m\n",
      "Observation: \u001b[36;1m\u001b[1;3m[Document(page_content='snakes (and other wildlife) out of your living space. \\n•   BE AWARE OF YOUR SURROUNDINGS. As you \\ngo for walks outside, do yard work, or work in the \\ngarden, be aware that snakes could be in the area. \\nBeing prepared for the possibility of encountering a snake and watching where you step and place your hands can minimize the chance of you disturbing or stepping on a snake.', metadata={'source': '../data/snakes.pdf', 'page': 1, 'captions': {'text': 'snakes (and other wildlife) out of your living space. \\n•   BE AWARE OF YOUR SURROUNDINGS. As you \\ngo for walks outside, do yard work, or work in the \\ngarden, be aware that snakes could be in the area. \\nBeing prepared for the possibility of encountering a snake and watching where you step and place your hands can minimize the chance of you disturbing or stepping on a snake..', 'highlights': '<em>snakes</em> (and other wildlife) out of your living space. \\n•   BE AWARE OF YOUR SURROUNDINGS. As you \\ngo for walks outside, do yard work, or work in the \\ngarden, be aware that<em> snakes</em> could be in the area. \\nBeing prepared for the possibility of encountering a<em> snake</em> and watching where you step and place your hands can minimize the chance of you disturbing or stepping on a<em> snake..</em>'}, 'answers': ''}), Document(page_content='an escape route, they will bite or lunge outward to defend \\nthemselves. In general, if left alone, snakes pose no threat to humans or pets.\\nWhat should I do when I see a snake?\\nWhen someone encounters a snake, usually the person and the snake are both caught off guard. The best plan is to leave \\nthe snake alone and give it plenty of space. In most cases, given', metadata={'source': '../data/snakes.pdf', 'page': 0, 'captions': {'text': 'an escape route, they will bite or lunge outward to defend \\nthemselves. In general, if left alone, snakes pose no threat to humans or pets.\\nWhat should I do when I see a snake?\\nWhen someone encounters a snake, usually the person and the snake are both caught off guard. The best plan is to leave \\nthe snake alone and give it plenty of space. In most cases, given.', 'highlights': 'an escape route, they will bite or lunge outward to defend \\nthemselves. In general, if left alone,<em> snakes</em> pose no threat to humans or pets.\\nWhat should I do when I see a<em> snake?\\nWhen</em> someone encounters a<em> snake,</em> usually the person and the<em> snake</em> are both caught off guard. The best plan is to leave \\nthe<em> snake</em> alone and give it plenty of space. In most cases, given.'}, 'answers': ''}), Document(page_content='around your home trimmed and clearing out piles of  \\nrock, wood, and other debris will make your property  \\nless appealing for snakes. \\n•   REMOVE ENTRY POINTS. Discourage snakes from \\nentering your home by closing gaps and holes. Repair  \\ndamage to siding and foundations and permanently \\nseal openings under doors, windows, and around \\nwater pipes. Securing your home will help keep', metadata={'source': '../data/snakes.pdf', 'page': 1, 'captions': {'text': 'around your home trimmed and clearing out piles of  \\nrock, wood, and other debris will make your property  \\nless appealing for snakes. \\n•   REMOVE ENTRY POINTS. Discourage snakes from \\nentering your home by closing gaps and holes. Repair  \\ndamage to siding and foundations and permanently \\nseal openings under doors, windows, and around \\nwater pipes. Securing your home will help keep.', 'highlights': 'around your home trimmed and clearing out piles of  \\nrock, wood, and other debris will make your property  \\nless appealing for<em> snakes.</em> \\n•   REMOVE ENTRY POINTS. Discourage<em> snakes</em> from \\nentering your home by closing gaps and holes. Repair  \\ndamage to siding and foundations and permanently \\nseal openings under doors, windows, and around \\nwater pipes. Securing your home will help keep.'}, 'answers': ''}), Document(page_content='•   BE AWARE OF YOUR SURROUNDINGS. As you \\ngo for walks outside, do yard work, or work in the \\ngarden, be aware that snakes could be in the area. \\nBeing prepared for the possibility of encountering a snake and watching where you step and place your hands can minimize the chance of you disturbing or stepping on a snake. \\n•   EDUCATE YOURSELF AND OTHERS. Always stay \\na respectful distance away from snakes (and other \\nwildlife) and remind kids to look but not touch. \\nLearn ing how to identify the species of snakes that \\ncommonly occur in your area will help you during \\nan encounter. A good online resource for iden-\\ntifying snakes can be found at herpsofnc.org. If you \\nsee a snake and would like help in identifying the species, you can email photos to wrccomments@ncwildlife.org. \\n•   IF YOU NEED ASSISTANCE REMOVING A SNAKE  \\nINSIDE YOUR HOME: Contact a local, cer tified Wild-  \\n life Damage Control Agent. These are private indi -\\nviduals who charge for their services. You can locate', metadata={'source': '../data/snakes.pdf', 'page': 1, 'captions': {'text': '•   BE AWARE OF YOUR SURROUNDINGS. As you  go for walks outside, do yard work, or work in the  garden, be aware that snakes could be in the area. Being prepared for the possibility of encountering a snake and watching where you step and place your hands can minimize the chance of you disturbing or stepping on a snake.', 'highlights': '•   BE AWARE OF YOUR SURROUNDINGS. As you  go for walks outside, do yard work, or work in the  garden, be aware that<em> snakes</em> could be in the area. Being prepared for the possibility of encountering a<em> snake</em> and watching where you step and place your hands can minimize the chance of you disturbing or stepping on a<em> snake.</em>'}, 'answers': ''})]\u001b[0m\n",
      "Thought:\u001b[32;1m\u001b[1;3mThe tips for preventing conflicts with snakes include being aware of your surroundings, keeping your property free of debris and entry points, educating yourself and others, and seeking professional help if needed.\n",
      "Final Answer: The tips for preventing conflicts with snakes include being aware of your surroundings, keeping your property free of debris and entry points, educating yourself and others, and seeking professional help if needed.\u001b[0m\n",
      "\n",
      "\u001b[1m> Finished chain.\u001b[0m\n",
      "\u001b[36;1m\u001b[1;3mThe tips for preventing conflicts with snakes include being aware of your surroundings, keeping your property free of debris and entry points, educating yourself and others, and seeking professional help if needed.\u001b[0m\n",
      "\u001b[33;1m\u001b[1;3m<h2>Tips for Preventing Conflicts with Snakes</h2>\n",
      "<p>The tips for preventing conflicts with snakes include being aware of your surroundings, keeping your property free of debris and entry points, educating yourself and others, and seeking professional help if needed.</p>\u001b[0m\n",
      "\n",
      "\u001b[1m> Finished chain.\u001b[0m\n"
     ]
    },
    {
     "data": {
      "text/html": [
       "<h2>Tips for Preventing Conflicts with Snakes</h2>\n",
       "<p>The tips for preventing conflicts with snakes include being aware of your surroundings, keeping your property free of debris and entry points, educating yourself and others, and seeking professional help if needed.</p>"
      ],
      "text/plain": [
       "<IPython.core.display.HTML object>"
      ]
     },
     "metadata": {},
     "output_type": "display_data"
    }
   ],
   "source": [
    "question = \"List the tips for Preventing Conflicts with Snakes\"\n",
    "\n",
    "result = overall_chain.run(question)\n",
    "display(HTML(result))"
   ]
  }
 ],
 "metadata": {
  "kernelspec": {
   "display_name": "Python 3",
   "language": "python",
   "name": "python3"
  },
  "language_info": {
   "codemirror_mode": {
    "name": "ipython",
    "version": 3
   },
   "file_extension": ".py",
   "mimetype": "text/x-python",
   "name": "python",
   "nbconvert_exporter": "python",
   "pygments_lexer": "ipython3",
   "version": "3.10.12"
  },
  "orig_nbformat": 4
 },
 "nbformat": 4,
 "nbformat_minor": 2
}
