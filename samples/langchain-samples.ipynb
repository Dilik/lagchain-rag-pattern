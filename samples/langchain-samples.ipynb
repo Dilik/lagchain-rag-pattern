{
 "cells": [
  {
   "cell_type": "markdown",
   "metadata": {},
   "source": [
    "### Setup"
   ]
  },
  {
   "cell_type": "code",
   "execution_count": 14,
   "metadata": {},
   "outputs": [],
   "source": [
    "import openai\n",
    "import os\n",
    "from langchain.chat_models import ChatOpenAI\n",
    "from langchain.text_splitter import RecursiveCharacterTextSplitter, CharacterTextSplitter\n",
    "from langchain.embeddings import OpenAIEmbeddings\n",
    "from langchain.chains import RetrievalQA\n",
    "from langchain.prompts import PromptTemplate\n",
    "from langchain.document_loaders import PyPDFLoader\n",
    "\n",
    "\n",
    "# use reddis as a backend\n",
    "from langchain.vectorstores.redis import Redis\n",
    "redis_url = \"redis://localhost:6379\"\n",
    "\n",
    "# read local .env file\n",
    "from dotenv import load_dotenv, find_dotenv\n",
    "_ = load_dotenv(find_dotenv()) \n",
    "\n",
    "\n",
    "# setup azure openai api\n",
    "openai.api_type = \"azure\"\n",
    "openai.api_base = os.getenv(\"AZURE_OAI_ENDPOINT\")\n",
    "openai.api_version = \"2023-03-15-preview\"\n",
    "openai.api_key  = os.getenv('AZURE_OAI_KEY')\n",
    "\n",
    "llm_name = \"gpt-3.5-turbo\"\n",
    "deployment_name_gpt = os.getenv(\"AZURE_OAI_MODEL_GPT_3\")\n",
    "deployment_name_ada = os.getenv(\"AZURE_OAI_MODEL_ADA\")\n",
    "\n",
    "os.environ[\"OPENAI_API_TYPE\"] = openai.api_type\n",
    "os.environ[\"OPENAI_API_BASE\"] = openai.api_base\n",
    "os.environ[\"OPENAI_API_KEY\"] = openai.api_key\n",
    "os.environ[\"OPENAI_API_VERSION\"] = openai.api_version"
   ]
  },
  {
   "cell_type": "markdown",
   "metadata": {},
   "source": [
    "### Load PDF Files"
   ]
  },
  {
   "cell_type": "code",
   "execution_count": 15,
   "metadata": {},
   "outputs": [],
   "source": [
    "loader = PyPDFLoader(\"../data/dummy-file.pdf\")\n",
    "pages = loader.load()"
   ]
  },
  {
   "cell_type": "code",
   "execution_count": 16,
   "metadata": {},
   "outputs": [
    {
     "data": {
      "text/plain": [
       "19"
      ]
     },
     "execution_count": 16,
     "metadata": {},
     "output_type": "execute_result"
    }
   ],
   "source": [
    "len(pages)"
   ]
  },
  {
   "cell_type": "code",
   "execution_count": 17,
   "metadata": {},
   "outputs": [
    {
     "name": "stdout",
     "output_type": "stream",
     "text": [
      " \n",
      " 3     \n",
      " COSMETIC OR MEDICINAL?\n",
      " \n",
      " \n",
      "Another factor that will affect how claims are regulated is whether \n",
      "they are considered cosmetic or medicinal.   \n",
      "A cosmetic product is defined as: A medicinal product is defined as: \n",
      "“Any substance or preparation intended \n",
      "to be placed in contact with the various \n",
      "external parts of the human body \n",
      "(epidermis, hair system, nails, lips and \n",
      "external genital organs) or with the \n",
      "teeth and the mucous membranes of \n",
      "the oral cavity with a view exclusively \n",
      "or ma\n"
     ]
    }
   ],
   "source": [
    "page= pages[2]\n",
    "print(page.page_content[:500])"
   ]
  },
  {
   "cell_type": "code",
   "execution_count": 18,
   "metadata": {},
   "outputs": [
    {
     "data": {
      "text/plain": [
       "{'source': '../data/dummy-file.pdf', 'page': 2}"
      ]
     },
     "execution_count": 18,
     "metadata": {},
     "output_type": "execute_result"
    }
   ],
   "source": [
    "page.metadata"
   ]
  },
  {
   "cell_type": "markdown",
   "metadata": {},
   "source": [
    "### Document splitting"
   ]
  },
  {
   "cell_type": "code",
   "execution_count": 19,
   "metadata": {},
   "outputs": [],
   "source": [
    "chunk_size = 1000\n",
    "chunk_overlap = 150\n",
    "separator = \"\\n\""
   ]
  },
  {
   "cell_type": "code",
   "execution_count": 20,
   "metadata": {},
   "outputs": [],
   "source": [
    "r_splitter = RecursiveCharacterTextSplitter(chunk_size=chunk_size, chunk_overlap=chunk_overlap)\n",
    "c_splitter = CharacterTextSplitter(chunk_size=chunk_size, chunk_overlap=chunk_overlap, separator=separator)"
   ]
  },
  {
   "cell_type": "code",
   "execution_count": 21,
   "metadata": {},
   "outputs": [],
   "source": [
    "docs = r_splitter.split_documents(pages)"
   ]
  },
  {
   "cell_type": "code",
   "execution_count": 22,
   "metadata": {},
   "outputs": [
    {
     "name": "stdout",
     "output_type": "stream",
     "text": [
      "Claims made on-air or in marketing literature that accompanies products will \n",
      "be regulated by the Advertising Standards Authority (ASA). Not only \n",
      "do the ASA investigate consumer complaints, they also have a monitoring team reviewing the media, including teleshopping channels, to ensure claims adhere to their rules. Consequently, \n",
      "claims that are commonplace in the high street are not found in \n",
      "advertising, because non-removable point of sale advertising does not fall within the ASA’s remit.   \n",
      "Any direct claim, or implication, that features on-air will fall within \n",
      "the ASA remit, regardless of how it is made – on-air graphic, claims on the product itself, press, testimonials, opinions, personal experience, beliefs etc are all assessed against the BCAP Code.   \n",
      "Most other claims will be regulated by Trading Standards. While \n",
      "they do not enforce the regulations as vigilantly as the ASA, the requirement to substantiate claims is similar.   Type of \n",
      "claim Regulatory Body Most relevant\n",
      "{'source': '../data/dummy-file.pdf', 'page': 0}\n"
     ]
    },
    {
     "data": {
      "text/plain": [
       "40"
      ]
     },
     "execution_count": 22,
     "metadata": {},
     "output_type": "execute_result"
    }
   ],
   "source": [
    "print(docs[1].page_content)\n",
    "print(docs[1].metadata)\n",
    "len(docs)"
   ]
  },
  {
   "cell_type": "code",
   "execution_count": 23,
   "metadata": {},
   "outputs": [],
   "source": [
    "docs = c_splitter.split_documents(pages)"
   ]
  },
  {
   "cell_type": "code",
   "execution_count": 24,
   "metadata": {},
   "outputs": [
    {
     "name": "stdout",
     "output_type": "stream",
     "text": [
      "Claims made on-air or in marketing literature that accompanies products will \n",
      "be regulated by the Advertising Standards Authority (ASA). Not only \n",
      "do the ASA investigate consumer complaints, they also have a monitoring team reviewing the media, including teleshopping channels, to ensure claims adhere to their rules. Consequently, \n",
      "claims that are commonplace in the high street are not found in \n",
      "advertising, because non-removable point of sale advertising does not fall within the ASA’s remit.   \n",
      "Any direct claim, or implication, that features on-air will fall within \n",
      "the ASA remit, regardless of how it is made – on-air graphic, claims on the product itself, press, testimonials, opinions, personal experience, beliefs etc are all assessed against the BCAP Code.   \n",
      "Most other claims will be regulated by Trading Standards. While \n",
      "they do not enforce the regulations as vigilantly as the ASA, the requirement to substantiate claims is similar.   Type of \n",
      "claim Regulatory Body Most relevant\n",
      "{'source': '../data/dummy-file.pdf', 'page': 0}\n"
     ]
    },
    {
     "data": {
      "text/plain": [
       "40"
      ]
     },
     "execution_count": 24,
     "metadata": {},
     "output_type": "execute_result"
    }
   ],
   "source": [
    "print(docs[1].page_content)\n",
    "print(docs[1].metadata)\n",
    "len(docs)"
   ]
  },
  {
   "cell_type": "markdown",
   "metadata": {},
   "source": [
    "### Embedding"
   ]
  },
  {
   "cell_type": "markdown",
   "metadata": {},
   "source": [
    "### spin up local redis to store vector embeddings\n",
    "````docker run --rm -it -p 6379:6379 redis/redis-stack-server:latest````"
   ]
  },
  {
   "cell_type": "code",
   "execution_count": 25,
   "metadata": {},
   "outputs": [],
   "source": [
    "#for embedding we need to use text-embedding-ada-002 model in needs to be deployed in Azure OAI service\n",
    "embeddings = OpenAIEmbeddings(\n",
    "    model=deployment_name_ada, \n",
    "    deployment=deployment_name_ada,\n",
    "    chunk_size=1\n",
    "    )"
   ]
  },
  {
   "cell_type": "code",
   "execution_count": 26,
   "metadata": {},
   "outputs": [],
   "source": [
    "redis = Redis.from_documents(\n",
    "    docs,\n",
    "    embeddings,\n",
    "    redis_url=redis_url,\n",
    "    index_name=\"dummy-file\"\n",
    "    )"
   ]
  },
  {
   "cell_type": "markdown",
   "metadata": {},
   "source": [
    "### Retreival"
   ]
  },
  {
   "cell_type": "code",
   "execution_count": 27,
   "metadata": {},
   "outputs": [],
   "source": [
    "def search(query):\n",
    "    results = redis.similarity_search_limit_score(query, k=1)\n",
    "    return results[0] if results else None"
   ]
  },
  {
   "cell_type": "code",
   "execution_count": 28,
   "metadata": {},
   "outputs": [
    {
     "name": "stdout",
     "output_type": "stream",
     "text": [
      "So diseases include conditions such as  \n",
      "spots, sun burn and even razor burn \n",
      " \n",
      "More info1 More info  \n",
      "TYPICAL COSMETIC CLAIMS: \n",
      "Clean, Protect, Cover, Mask, Perfume TYPICAL MEDICINAL CLAIMS: \n",
      "Treat, Restore, Cure, Rejuvenate, \n",
      "Repair, Lift, Prevent, Fix  \n",
      "Please note: context is important in the above given examples \n",
      "COSMETIC CLAIMS CAN FEATURE \n",
      "ON QVC IF SUBSTANTIATED  TO MAKE MEDICINAL CLAIMS \n",
      "WITHOUT A PRODUCT LICENCE IS \n",
      "A CRIMINAL OFFENCE \n",
      " \n",
      "                                                \n",
      "1 If you viewing a hard copy of this document the links are as follows: \n",
      "Cosmetics: http://www.ctpa.org.uk/page.asp?section=3&page=1 \n",
      "Medicines: http://www.mhra.gov.uk/home/idcplg?IdcService=SS_GET_PAGE&nodeId=91\n",
      "{'source': '../data/dummy-file.pdf', 'page': 2, 'id': 'doc:dummy-file:741b504762514defa17ba70c465bb02e'}\n"
     ]
    }
   ],
   "source": [
    "query = \"What are the typical cosmetic claims?\"\n",
    "result = search(query)\n",
    "\n",
    "if (result):\n",
    "    print(result.page_content)\n",
    "    print(result.metadata)\n",
    "else:\n",
    "    print(\"Sorry, I couldn't find a relevant answer for your question.\")"
   ]
  },
  {
   "cell_type": "code",
   "execution_count": 29,
   "metadata": {},
   "outputs": [
    {
     "name": "stdout",
     "output_type": "stream",
     "text": [
      "pollution by reinforcing the skin’s natural barrier”  Summary of protection claims:\n",
      " \n",
      " \n",
      " \n",
      "Rejected Claims: Accepted Claims: \n",
      "Sun block \n",
      " Sunscreen \n",
      "Improves the skin’s \n",
      "natural barrier Reinforces the skin’s natural \n",
      "barrier  \n",
      "Protects skin (if no SPF \n",
      "contained) \n",
      " \n",
      " Protects skin (if SPF \n",
      "contained) \n",
      " \n",
      "Help protect against further \n",
      "age spots \n",
      " \n",
      " \n",
      "Temporary delays \n",
      "premature ageing (if \n",
      "<SPF15 contained) Temporary delays premature \n",
      "ageing (if >SPF15 contained) \n",
      "Protect skin against \n",
      "sunburn (medicinal \n",
      "claim) Protect skin against \n",
      "pollution/the cold etc \n",
      "Reduces free radicals Helps to prevent the \n",
      "formation of free radicals \n",
      "caused by UV exposure\n",
      "{'source': '../data/dummy-file.pdf', 'page': 4, 'id': 'doc:dummy-file:46d3c343de5c4d9ebf0f59a1abb4ed82'}\n"
     ]
    }
   ],
   "source": [
    "query = \"What are the protection claims?\"\n",
    "result = search(query)\n",
    "\n",
    "if (result):\n",
    "    print(result.page_content)\n",
    "    print(result.metadata)\n",
    "else:\n",
    "    print(\"Sorry, I couldn't find a relevant answer for your question.\")"
   ]
  },
  {
   "cell_type": "markdown",
   "metadata": {},
   "source": [
    "### QAChain"
   ]
  },
  {
   "cell_type": "code",
   "execution_count": 30,
   "metadata": {},
   "outputs": [
    {
     "name": "stderr",
     "output_type": "stream",
     "text": [
      "WARNING! engine is not default parameter.\n",
      "                    engine was transferred to model_kwargs.\n",
      "                    Please confirm that engine is what you intended.\n"
     ]
    }
   ],
   "source": [
    "llm = ChatOpenAI(model_name=llm_name, temperature=0, engine=deployment_name_gpt)"
   ]
  },
  {
   "cell_type": "code",
   "execution_count": 31,
   "metadata": {},
   "outputs": [],
   "source": [
    "qa_chain = RetrievalQA.from_chain_type(\n",
    "    llm,\n",
    "    retriever=redis.as_retriever()\n",
    ")"
   ]
  },
  {
   "cell_type": "code",
   "execution_count": 32,
   "metadata": {},
   "outputs": [
    {
     "data": {
      "text/plain": [
       "'Typical cosmetic claims include clean, protect, cover, mask, and perfume.'"
      ]
     },
     "execution_count": 32,
     "metadata": {},
     "output_type": "execute_result"
    }
   ],
   "source": [
    "question = \"What are the typical cosmetic claims?\"\n",
    "result = qa_chain({\"query\": question})\n",
    "result[\"result\"]"
   ]
  },
  {
   "cell_type": "code",
   "execution_count": 33,
   "metadata": {},
   "outputs": [
    {
     "data": {
      "text/plain": [
       "'Typical medicinal claims include treat, restore, cure, rejuvenate, repair, lift, prevent, and fix.'"
      ]
     },
     "execution_count": 33,
     "metadata": {},
     "output_type": "execute_result"
    }
   ],
   "source": [
    "question = \"What are the typical medicinal claims?\"\n",
    "result = qa_chain({\"query\": question})\n",
    "result[\"result\"]"
   ]
  },
  {
   "cell_type": "markdown",
   "metadata": {},
   "source": [
    "### PromptTemplates"
   ]
  },
  {
   "cell_type": "code",
   "execution_count": 34,
   "metadata": {},
   "outputs": [],
   "source": [
    "# Build prompt\n",
    "template = \"\"\"Use the following pieces of context to answer the question at the end. \\\n",
    "    If you don't know the answer, just say that you don't know, don't try to make up an answer. \\\n",
    "    Use three sentences maximum. Keep the answer as concise as possible. \\\n",
    "    Always say \"thanks for asking!\" at the end of the answer. \\\n",
    "    {context}\n",
    "    Question: {question}\n",
    "    Helpful Answer:\"\"\"\n",
    "    \n",
    "QA_CHAIN_PROMPT = PromptTemplate.from_template(template)"
   ]
  },
  {
   "cell_type": "code",
   "execution_count": 35,
   "metadata": {},
   "outputs": [],
   "source": [
    "qa_chain = RetrievalQA.from_chain_type(\n",
    "    llm,\n",
    "    retriever=redis.as_retriever(),\n",
    "    return_source_documents=True,\n",
    "    chain_type_kwargs={\"prompt\": QA_CHAIN_PROMPT}\n",
    ")"
   ]
  },
  {
   "cell_type": "code",
   "execution_count": 36,
   "metadata": {},
   "outputs": [],
   "source": [
    "question = \"What are the typical cosmetic claims?\"\n",
    "result = qa_chain({\"query\": question})"
   ]
  },
  {
   "cell_type": "code",
   "execution_count": 37,
   "metadata": {},
   "outputs": [
    {
     "data": {
      "text/plain": [
       "'Typical cosmetic claims include clean, protect, cover, mask, and perfume. Thanks for asking!'"
      ]
     },
     "execution_count": 37,
     "metadata": {},
     "output_type": "execute_result"
    }
   ],
   "source": [
    "result[\"result\"]"
   ]
  },
  {
   "cell_type": "code",
   "execution_count": 38,
   "metadata": {},
   "outputs": [
    {
     "data": {
      "text/plain": [
       "[Document(page_content='So diseases include conditions such as  \\nspots, sun burn and even razor burn \\n \\nMore info1 More info  \\nTYPICAL COSMETIC CLAIMS: \\nClean, Protect, Cover, Mask, Perfume TYPICAL MEDICINAL CLAIMS: \\nTreat, Restore, Cure, Rejuvenate, \\nRepair, Lift, Prevent, Fix  \\nPlease note: context is important in the above given examples \\nCOSMETIC CLAIMS CAN FEATURE \\nON QVC IF SUBSTANTIATED  TO MAKE MEDICINAL CLAIMS \\nWITHOUT A PRODUCT LICENCE IS \\nA CRIMINAL OFFENCE \\n \\n                                                \\n1 If you viewing a hard copy of this document the links are as follows: \\nCosmetics: http://www.ctpa.org.uk/page.asp?section=3&page=1 \\nMedicines: http://www.mhra.gov.uk/home/idcplg?IdcService=SS_GET_PAGE&nodeId=91', metadata={'source': '../data/dummy-file.pdf', 'page': 2, 'id': 'doc:dummy-file:741b504762514defa17ba70c465bb02e'}),\n",
       " Document(page_content='to cosmetic beauty, \\nrelaxation or ‘feel good’ \\nclaims  \\n  \\nFURTHER CLAIMS\\n \\n As previously stated the above is the generally accepted scientific \\nopinion amongst regulators. It does not, however, mean that claims \\nwill always be limited to the above advice. It should be noted that the industry has been trying to demonstrate that cosmetic products', metadata={'source': '../data/dummy-file.pdf', 'page': 13, 'id': 'doc:dummy-file:19510a01ccf240808b54288b0ba3c892'}),\n",
       " Document(page_content='to prevent them with an SPF (although the role an SPF can \\nplay should not be overstated).    (v) Other Blemishes\\n \\n \\nA general rule of thumb is that it is acceptable to claim to cover up blemishes but removing them will often not be an acceptable claim for a cosmetic.  \\n \\nClaims in regards to blemishes caused by medical conditions (e.g. Eczema, Psoriasis) will always need to be assessed by QVC before being made on air.   \\nSummary of appearance claims\\n \\n \\nRejected Claims: Accepted Claims: Notes: \\nBotox in a bottle \\nFacelift in a jar \\nNon surgical facelift \\nLift the face \\nTighten and contour your \\nskin without surgery Temporary lifting effect \\nLook visibly younger \\nLet surgery wait  \\nReference to improving, \\nremoving, reducing \\ncellulite or even the \\nappearance of cellulite Skin  feels/appears \\nsmoother \\n This includes \\nreferences to cellulite \\nby another name e.g.  \\norange peel skin', metadata={'source': '../data/dummy-file.pdf', 'page': 10, 'id': 'doc:dummy-file:e0877840ff7a43619bd3b8b479b6157c'}),\n",
       " Document(page_content='11 bacteria. It would be acceptable to claim that reducing any of \\nthe above factors may, not will , help to reduce spots.  \\n Furthermore, if a cosmetic has a main primary benefit that is \\nnot to treat acne (e.g. cover-up), a secondary claim to \\nprevent  further spots  would be acceptable (as long as it \\nhas the necessary effect).   \\n(iv) Age spots\\n \\n \\n Age spots, also known as liver spots, are only of cosmetic \\nconcern.   \\n \\n Products to remove them, however, should normally be \\nrecommended by a GP or dermatologist; most products that have the required efficacy to remove age spots are not considered cosmetics. If you consider that your product can \\nreduce age spots you will need to present evidence to QVC to \\ndemonstrate that effect.   Claims should be limited to covering up age spots or helping \\nto prevent them with an SPF (although the role an SPF can \\nplay should not be overstated).    (v) Other Blemishes', metadata={'source': '../data/dummy-file.pdf', 'page': 10, 'id': 'doc:dummy-file:de3ac497f9224223918310b7a8609b24'})]"
      ]
     },
     "execution_count": 38,
     "metadata": {},
     "output_type": "execute_result"
    }
   ],
   "source": [
    "result[\"source_documents\"]"
   ]
  },
  {
   "cell_type": "code",
   "execution_count": 39,
   "metadata": {},
   "outputs": [
    {
     "data": {
      "text/plain": [
       "\"I'm sorry, there is no specific question provided for me to answer. Please provide a question for me to assist you better. Thanks for asking!\""
      ]
     },
     "execution_count": 39,
     "metadata": {},
     "output_type": "execute_result"
    }
   ],
   "source": [
    "question = \"What is blah blah blah?\"\n",
    "result = qa_chain({\"query\": question})\n",
    "result[\"result\"]"
   ]
  }
 ],
 "metadata": {
  "kernelspec": {
   "display_name": "Python 3",
   "language": "python",
   "name": "python3"
  },
  "language_info": {
   "codemirror_mode": {
    "name": "ipython",
    "version": 3
   },
   "file_extension": ".py",
   "mimetype": "text/x-python",
   "name": "python",
   "nbconvert_exporter": "python",
   "pygments_lexer": "ipython3",
   "version": "3.10.12"
  },
  "orig_nbformat": 4
 },
 "nbformat": 4,
 "nbformat_minor": 2
}
