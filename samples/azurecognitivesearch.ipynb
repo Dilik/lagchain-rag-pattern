{
 "cells": [
  {
   "cell_type": "markdown",
   "metadata": {},
   "source": [
    "### Azure Cognitive Search Setup with Langchain"
   ]
  },
  {
   "cell_type": "code",
   "execution_count": 12,
   "metadata": {},
   "outputs": [],
   "source": [
    "import openai\n",
    "import os\n",
    "from langchain.embeddings.openai import OpenAIEmbeddings\n",
    "from langchain.vectorstores.azuresearch import AzureSearch\n",
    "from langchain.document_loaders import PyPDFLoader\n",
    "from langchain.text_splitter import CharacterTextSplitter\n",
    "\n",
    "# read local .env file\n",
    "from dotenv import load_dotenv, find_dotenv\n",
    "_ = load_dotenv(find_dotenv()) \n",
    "\n",
    "# setup azure openai api\n",
    "openai.api_type = \"azure\"\n",
    "openai.api_base = os.getenv(\"AZURE_OAI_ENDPOINT\")\n",
    "# openai.api_version = \"2023-03-15-preview\"\n",
    "openai.api_version = \"2023-05-15\"\n",
    "openai.api_key  = os.getenv('AZURE_OAI_KEY')\n",
    "\n",
    "llm_name = \"gpt-3.5-turbo\"\n",
    "deployment_name_gpt = os.getenv(\"AZURE_OAI_MODEL_GPT_3\")\n",
    "deployment_name_ada = os.getenv(\"AZURE_OAI_MODEL_ADA\")\n",
    "\n",
    "vector_store_address: str = os.getenv(\"AZURE_SEARCH_ENDPOINT\")\n",
    "vector_store_password: str = os.getenv(\"AZURE_SEARCH_ADMIN_KEY\")\n",
    "\n",
    "os.environ[\"OPENAI_API_TYPE\"] = openai.api_type\n",
    "os.environ[\"OPENAI_API_BASE\"] = openai.api_base\n",
    "os.environ[\"OPENAI_API_KEY\"] = openai.api_key\n",
    "os.environ[\"OPENAI_API_VERSION\"] = openai.api_version"
   ]
  },
  {
   "cell_type": "markdown",
   "metadata": {},
   "source": [
    "### Create Vector Index in Azure Cognitive Search"
   ]
  },
  {
   "cell_type": "code",
   "execution_count": 13,
   "metadata": {},
   "outputs": [],
   "source": [
    "embeddings: OpenAIEmbeddings = OpenAIEmbeddings(deployment=deployment_name_ada, chunk_size=1)\n",
    "index_name: str = \"facts-about-snakes\"\n",
    "vector_store: AzureSearch = AzureSearch(\n",
    "    azure_search_endpoint=vector_store_address,\n",
    "    azure_search_key=vector_store_password,\n",
    "    index_name=index_name,\n",
    "    embedding_function=embeddings.embed_query,\n",
    ")"
   ]
  },
  {
   "cell_type": "markdown",
   "metadata": {},
   "source": [
    "### Load data and split it into chunks"
   ]
  },
  {
   "cell_type": "code",
   "execution_count": 14,
   "metadata": {},
   "outputs": [],
   "source": [
    "loader = PyPDFLoader(\"../data/snakes.pdf\")\n",
    "documents = loader.load()"
   ]
  },
  {
   "cell_type": "code",
   "execution_count": 15,
   "metadata": {},
   "outputs": [
    {
     "data": {
      "text/plain": [
       "2"
      ]
     },
     "execution_count": 15,
     "metadata": {},
     "output_type": "execute_result"
    }
   ],
   "source": [
    "len(documents)"
   ]
  },
  {
   "cell_type": "code",
   "execution_count": 16,
   "metadata": {},
   "outputs": [],
   "source": [
    "chunk_size = 300\n",
    "chunk_overlap = 4\n",
    "separator = '\\n'\n",
    "text_splitter = CharacterTextSplitter(chunk_size=chunk_size, chunk_overlap=chunk_overlap, separator=separator)"
   ]
  },
  {
   "cell_type": "code",
   "execution_count": 17,
   "metadata": {},
   "outputs": [
    {
     "name": "stderr",
     "output_type": "stream",
     "text": [
      "Created a chunk of size 434, which is longer than the specified 300\n"
     ]
    },
    {
     "data": {
      "text/plain": [
       "20"
      ]
     },
     "execution_count": 17,
     "metadata": {},
     "output_type": "execute_result"
    }
   ],
   "source": [
    "docs = text_splitter.split_documents(documents)\n",
    "len(docs)"
   ]
  },
  {
   "cell_type": "markdown",
   "metadata": {},
   "source": [
    "### Upload the docs in vector form into azure cogntivesearch vector database"
   ]
  },
  {
   "cell_type": "code",
   "execution_count": 18,
   "metadata": {},
   "outputs": [
    {
     "data": {
      "text/plain": [
       "['NjFhOGNmNzAtNjVhNS00YTg5LWI3MzAtODk3ZDZmNmIxYTAy',\n",
       " 'ZGJiMjk0NGYtOWVhYS00MjBmLWE5YTktYmQwMjAwMmRhMWQ2',\n",
       " 'NTY3ZjhjZTUtMTczMC00NTgyLWJlYTgtZDg1ODhjZjY5YWE2',\n",
       " 'NDUxOTA3YjctNWNiOS00ZGRkLWEzODMtN2FjOTQyMTE5MDhk',\n",
       " 'ZTE5ZDc0OTYtYzMzZi00NjBjLTk1ZmMtZTdhYTljNzQ0NDBh',\n",
       " 'N2U4NjJkNWItOGNiNy00MmQ1LTg1YzItZjMxY2IyZWExNWMy',\n",
       " 'ZWY5M2RjNzItMGZiNi00NWI4LTgwYzUtZDk1OWEwMDU1ODNi',\n",
       " 'YTI4YTYyY2ItNzFjYS00ZjUxLTk0ZDQtZWUxYTM0MTczZjUz',\n",
       " 'MWZiZTI2NjUtZmU4Yi00Y2Y3LWI3NWEtZmZlNGQzZGI0MjMx',\n",
       " 'N2M3YjM4ODItZGY1NC00NDk0LWI3YTItYzUwMDViNmE0ZWY1',\n",
       " 'ZWU0YzBhOTgtZTllYi00YzFlLWI5ZTItMWY3OWUxNGMzYjBi',\n",
       " 'NDI0ZDczZmUtNTNmNS00MGEwLWI3NGUtNjY1NWRhNWI5ZWY3',\n",
       " 'NGJhZmIwNTgtZGU1MS00ODJkLWI0MDEtMjYyN2FkMjZiNTRm',\n",
       " 'NzFkMjlmYTktOWQyNy00NjAxLTliODMtZGE1ZDY0ODM3NGQ0',\n",
       " 'N2M3NjlhMzgtZWExYS00MDM0LTliM2YtMDRiNTYwN2ZhYmVh',\n",
       " 'YjA0ODNlMjItNWI2NS00N2E4LWI2MTYtODdmMGFhOTljNTU3',\n",
       " 'MGZiZTIwMmEtY2ZmNy00MDVhLTk3MTQtNzRmMWI1MmFjMjQw',\n",
       " 'Mzg0ZGI5MDMtMDVkMi00NGZiLTllZjQtYzhkNjUwNWI4OTRk',\n",
       " 'MDNiYzdlMzctYWU5ZS00ODBlLWIwN2EtMGI0MTRkNmI5ODMz',\n",
       " 'MGRhMTBkODYtNTAzOC00YTA1LWJlNzItN2NhZDFlMWEzODVi']"
      ]
     },
     "execution_count": 18,
     "metadata": {},
     "output_type": "execute_result"
    }
   ],
   "source": [
    "vector_store.add_documents(documents=docs)"
   ]
  },
  {
   "cell_type": "markdown",
   "metadata": {},
   "source": [
    "### Perform Vector Similarity Search"
   ]
  },
  {
   "cell_type": "code",
   "execution_count": 19,
   "metadata": {},
   "outputs": [
    {
     "name": "stdout",
     "output_type": "stream",
     "text": [
      "Eastern Coral Snake. The Copperhead is the most common \n",
      "and widespread venomous snake in North Carolina, occur-\n",
      "ring in both rural and urban environments. Four of the six \n",
      "are protected species in North Carolina, and as such, should \n",
      "not be handled or disturbed: the Timber and Pigmy Rattle-\n"
     ]
    }
   ],
   "source": [
    "docs = vector_store.similarity_search(\n",
    "    query=\"What are the venomous snakes in north carolina\",\n",
    "    k=3,\n",
    "    search_type=\"similarity\",\n",
    ")\n",
    "print(docs[0].page_content)"
   ]
  },
  {
   "cell_type": "markdown",
   "metadata": {},
   "source": [
    "### Perform Hybrid Search"
   ]
  },
  {
   "cell_type": "code",
   "execution_count": 20,
   "metadata": {},
   "outputs": [
    {
     "name": "stdout",
     "output_type": "stream",
     "text": [
      "Eastern Coral Snake. The Copperhead is the most common \n",
      "and widespread venomous snake in North Carolina, occur-\n",
      "ring in both rural and urban environments. Four of the six \n",
      "are protected species in North Carolina, and as such, should \n",
      "not be handled or disturbed: the Timber and Pigmy Rattle-\n"
     ]
    }
   ],
   "source": [
    "docs = vector_store.similarity_search(\n",
    "    query=\"What are the venomous snakes in north carolina\",\n",
    "    k=3, \n",
    "    search_type=\"hybrid\"\n",
    ")\n",
    "print(docs[0].page_content)"
   ]
  },
  {
   "cell_type": "markdown",
   "metadata": {},
   "source": [
    "### Semantic Search"
   ]
  },
  {
   "cell_type": "code",
   "execution_count": 21,
   "metadata": {},
   "outputs": [],
   "source": [
    "# vectore_store_setup for semantic search.\n",
    "# semantic search has to be enabled in azure cognitive search\n",
    "# and add semantic configuration with the name \"default\" in the index that you do query.\n",
    "# index located in azure cognitive search service\n",
    "index_name: str = \"facts-about-snakes\"\n",
    "\n",
    "vector_store: AzureSearch = AzureSearch(\n",
    "    azure_search_endpoint=vector_store_address,\n",
    "    azure_search_key=vector_store_password,\n",
    "    index_name=index_name,\n",
    "    semantic_configuration_name=\"default\",\n",
    "    embedding_function=embeddings.embed_query\n",
    ")"
   ]
  },
  {
   "cell_type": "code",
   "execution_count": 22,
   "metadata": {},
   "outputs": [
    {
     "name": "stdout",
     "output_type": "stream",
     "text": [
      "How many snakes in North Carolina are \n",
      "Venomous?\n",
      "Out of the thirty-eight different species of snakes in North \n",
      "Carolina, only six are venomous. Venomous snakes include \n",
      "the Copperhead, Cottonmouth, Timber Rattlesnake, Eastern \n",
      "Diamondback Rattlesnake, Pigmy Rattlesnake, and the\n"
     ]
    }
   ],
   "source": [
    "docs = vector_store.similarity_search(\n",
    "    query=\"What are the venomous snakes in north carolina\",\n",
    "    k=3, \n",
    "    search_type=\"semantic_hybrid\"\n",
    ")\n",
    "print(docs[0].page_content)"
   ]
  }
 ],
 "metadata": {
  "kernelspec": {
   "display_name": "Python 3",
   "language": "python",
   "name": "python3"
  },
  "language_info": {
   "codemirror_mode": {
    "name": "ipython",
    "version": 3
   },
   "file_extension": ".py",
   "mimetype": "text/x-python",
   "name": "python",
   "nbconvert_exporter": "python",
   "pygments_lexer": "ipython3",
   "version": "3.10.12"
  },
  "orig_nbformat": 4
 },
 "nbformat": 4,
 "nbformat_minor": 2
}
